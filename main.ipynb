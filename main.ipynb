{
 "cells": [
  {
   "cell_type": "markdown",
   "metadata": {},
   "source": [
    "¡Hola!\n",
    "\n",
    "Mi nombre es Marcos Torres y tengo el gusto de revisar tu código el día de hoy.\n",
    "\n",
    "Cuando vea algo notable o algún asunto en el notebook, te dejaré un comentario o un hint. Se que encontraras la mejor respuesta para resolver todos los comentarios, de no ser así, no te preocupes en futuras iteraciones dejaré comentarios y pistas más específicos.\n",
    "\n",
    "Este proceso es muy parecido al que se recibe de un gerente o de un Senior Data Scientist en un trabajo real, por lo que te estarás preparando para la experiencia en la vida real.\n",
    "\n",
    "Encontrarás comentarios en verde, amarillo o rojo como los siguientes:\n",
    "\n",
    "<div class=\"alert alert-block alert-success\">\n",
    "<b>Comentario del revisor</b> <a class=\"tocSkip\"></a>\n",
    "\n",
    "Buen trabajo. ¡Lo hiciste muy bien!\n",
    "</div>\n",
    "\n",
    "<div class=\"alert alert-block alert-warning\">\n",
    "<b>Comentario del revisor</b> <a class=\"tocSkip\"></a>\n",
    "\n",
    "Nota. Se puede mejorar.\n",
    "</div>\n",
    "\n",
    "<div class=\"alert alert-block alert-danger\">\n",
    "<b>Comentario del revisor</b> <a class=\"tocSkip\"></a>\n",
    "\n",
    "Necesitas corregirlo. Este bloque indica que se requiere una correción. El trabajo no se acepta si tiene estos bloques.\n",
    "</div>\n",
    "\n",
    "Puedes responder a mis comentarios usando estos bloques:\n",
    "\n",
    "<div class=\"alert alert-block alert-info\">\n",
    "<b>Respuesta del estudiante.</b> <a class=\"tocSkip\"></a>\n",
    "</div>"
   ]
  },
  {
   "cell_type": "markdown",
   "metadata": {},
   "source": [
    "# Modelo de prediccion para pozo petrolero \"OilyGiant\"\n",
    "\n",
    "Modelo de prediccion para pozo de extracción de petróleo OilyGiant.\n",
    "La finalidad del siguiente modelo es encontrar los mejores lugares donde abrir 200 pozos nuevos de petróleo, buscando la mejor rentabilidad, con un analisis de riesgo-beneficio.\n",
    "\n",
    "Para la construccion y entrenamiento del Modelo de prediccion se realizaran las siguientes tareas:\n",
    "\n",
    "- Importacion de los archivos con los parámetros recogidos de pozos petrolíferos en la región seleccionada: calidad de crudo y volumen de reservas.\n",
    "- Creacion de un modelo para predecir el volumen de reservas en pozos nuevos.\n",
    "- Eleccion de los pozos petrolíferos con los valores estimados más altos.\n",
    "- Eleccion de la región con el beneficio total más alto para los pozos petrolíferos seleccionados.\n",
    "- Analisis de beneficios y riesgos potenciales utilizando la técnica bootstrapping.\n",
    "\n",
    "__Nota:__  \n",
    "- Para este modelo solo se usara el modelo de regresion lineal.\n",
    "- Se tomaran en cuenta 500 puntos de estudio para la seleccion de los mejores 200 para el calculo del beneficio.\n",
    "- Los datos son sintéticos por lo que los detalles del contrato y las características del pozo no se publicaran."
   ]
  },
  {
   "cell_type": "markdown",
   "metadata": {},
   "source": [
    "## Datos financieros\n",
    "\n",
    "__1. Presupuesto:__ 100 millones de dolares para 200 pesos petroleros\n",
    "\n",
    "__2. Ingreso por barril de materia prima:__ 4.5 USD\n",
    "\n",
    "__3. Ingreso por unidad de producto:__ 4500 dolares (vol. en miles de barriles)\n",
    "\n",
    "__4. Riesgo máximo permitido por region:__ 2.5% \n",
    "\n",
    "__5. Region a elegir :__ cumplimiento de a criterios y beneficio promedio mas alto.\n",
    "\n",
    "\n"
   ]
  },
  {
   "cell_type": "markdown",
   "metadata": {},
   "source": [
    "## Diccionario de datos\n",
    "- __id:__ identificador único de pozo de petróleo\n",
    "\n",
    "- __f0, f1, f2__ características de los puntos (su significado específico no es importante, pero las características en sí son significativas)\n",
    "\n",
    "- __product:__ volumen de reservas en el pozo de petróleo (miles de barriles).\n"
   ]
  },
  {
   "cell_type": "markdown",
   "metadata": {},
   "source": [
    "## Set up de datos\n",
    "Se descargan las librerias correspondientes y se guarda el data frame para analizar los datos con los que se va a trabajar y entenderlos"
   ]
  },
  {
   "cell_type": "code",
   "execution_count": 1,
   "metadata": {},
   "outputs": [],
   "source": [
    "import pandas as pd\n",
    "import numpy as np\n",
    "from scipy import stats as st\n",
    "import matplotlib.pyplot as plt\n",
    "from sklearn import set_config\n",
    "from sklearn.linear_model import LinearRegression\n",
    "from sklearn.metrics import accuracy_score , mean_squared_error,confusion_matrix ,accuracy_score , f1_score, precision_score, recall_score ,roc_auc_score,roc_curve, mean_absolute_error\n",
    "from sklearn.model_selection import train_test_split\n",
    "from sklearn.preprocessing import OrdinalEncoder, StandardScaler\n",
    "from sklearn.utils import shuffle"
   ]
  },
  {
   "cell_type": "code",
   "execution_count": 2,
   "metadata": {},
   "outputs": [],
   "source": [
    "df_0 = pd.read_csv('/datasets/geo_data_0.csv')\n",
    "df_1 = pd.read_csv('/datasets/geo_data_1.csv')\n",
    "df_2 = pd.read_csv('/datasets/geo_data_2.csv')"
   ]
  },
  {
   "cell_type": "markdown",
   "metadata": {},
   "source": [
    "<div class=\"alert alert-block alert-success\">\n",
    "<b>Comentario del revisor</b> <a class=\"tocSkip\"></a>\n",
    "\n",
    "Muy bien, usaste una celda independiente para importar las librerías y otra para leer los datos.\n",
    "</div>"
   ]
  },
  {
   "cell_type": "markdown",
   "metadata": {},
   "source": [
    "### Funciones para limpiar los df"
   ]
  },
  {
   "cell_type": "code",
   "execution_count": 3,
   "metadata": {},
   "outputs": [],
   "source": [
    "# funcion para revisar duplicados\n",
    "def duplicados(df,car):\n",
    "    print( df[car].duplicated().sum())\n",
    "    duplicated_id = list(df[df[car].duplicated()][car].unique())\n",
    "    display(df[df.id.isin(duplicated_id)])\n",
    "    \n",
    "\n",
    "# funcion para eliminar caracteristica\n",
    "def del_car(df,car):\n",
    "    df = df.drop(['id'], axis=1)\n",
    "    display(df_0)\n",
    "    return df"
   ]
  },
  {
   "cell_type": "markdown",
   "metadata": {},
   "source": [
    "### Analisis y limpieza de Datos"
   ]
  },
  {
   "cell_type": "code",
   "execution_count": 4,
   "metadata": {},
   "outputs": [
    {
     "data": {
      "text/html": [
       "<div>\n",
       "<style scoped>\n",
       "    .dataframe tbody tr th:only-of-type {\n",
       "        vertical-align: middle;\n",
       "    }\n",
       "\n",
       "    .dataframe tbody tr th {\n",
       "        vertical-align: top;\n",
       "    }\n",
       "\n",
       "    .dataframe thead th {\n",
       "        text-align: right;\n",
       "    }\n",
       "</style>\n",
       "<table border=\"1\" class=\"dataframe\">\n",
       "  <thead>\n",
       "    <tr style=\"text-align: right;\">\n",
       "      <th></th>\n",
       "      <th>id</th>\n",
       "      <th>f0</th>\n",
       "      <th>f1</th>\n",
       "      <th>f2</th>\n",
       "      <th>product</th>\n",
       "    </tr>\n",
       "  </thead>\n",
       "  <tbody>\n",
       "    <tr>\n",
       "      <th>0</th>\n",
       "      <td>txEyH</td>\n",
       "      <td>0.705745</td>\n",
       "      <td>-0.497823</td>\n",
       "      <td>1.221170</td>\n",
       "      <td>105.280062</td>\n",
       "    </tr>\n",
       "    <tr>\n",
       "      <th>1</th>\n",
       "      <td>2acmU</td>\n",
       "      <td>1.334711</td>\n",
       "      <td>-0.340164</td>\n",
       "      <td>4.365080</td>\n",
       "      <td>73.037750</td>\n",
       "    </tr>\n",
       "    <tr>\n",
       "      <th>2</th>\n",
       "      <td>409Wp</td>\n",
       "      <td>1.022732</td>\n",
       "      <td>0.151990</td>\n",
       "      <td>1.419926</td>\n",
       "      <td>85.265647</td>\n",
       "    </tr>\n",
       "    <tr>\n",
       "      <th>3</th>\n",
       "      <td>iJLyR</td>\n",
       "      <td>-0.032172</td>\n",
       "      <td>0.139033</td>\n",
       "      <td>2.978566</td>\n",
       "      <td>168.620776</td>\n",
       "    </tr>\n",
       "    <tr>\n",
       "      <th>4</th>\n",
       "      <td>Xdl7t</td>\n",
       "      <td>1.988431</td>\n",
       "      <td>0.155413</td>\n",
       "      <td>4.751769</td>\n",
       "      <td>154.036647</td>\n",
       "    </tr>\n",
       "    <tr>\n",
       "      <th>...</th>\n",
       "      <td>...</td>\n",
       "      <td>...</td>\n",
       "      <td>...</td>\n",
       "      <td>...</td>\n",
       "      <td>...</td>\n",
       "    </tr>\n",
       "    <tr>\n",
       "      <th>99995</th>\n",
       "      <td>DLsed</td>\n",
       "      <td>0.971957</td>\n",
       "      <td>0.370953</td>\n",
       "      <td>6.075346</td>\n",
       "      <td>110.744026</td>\n",
       "    </tr>\n",
       "    <tr>\n",
       "      <th>99996</th>\n",
       "      <td>QKivN</td>\n",
       "      <td>1.392429</td>\n",
       "      <td>-0.382606</td>\n",
       "      <td>1.273912</td>\n",
       "      <td>122.346843</td>\n",
       "    </tr>\n",
       "    <tr>\n",
       "      <th>99997</th>\n",
       "      <td>3rnvd</td>\n",
       "      <td>1.029585</td>\n",
       "      <td>0.018787</td>\n",
       "      <td>-1.348308</td>\n",
       "      <td>64.375443</td>\n",
       "    </tr>\n",
       "    <tr>\n",
       "      <th>99998</th>\n",
       "      <td>7kl59</td>\n",
       "      <td>0.998163</td>\n",
       "      <td>-0.528582</td>\n",
       "      <td>1.583869</td>\n",
       "      <td>74.040764</td>\n",
       "    </tr>\n",
       "    <tr>\n",
       "      <th>99999</th>\n",
       "      <td>1CWhH</td>\n",
       "      <td>1.764754</td>\n",
       "      <td>-0.266417</td>\n",
       "      <td>5.722849</td>\n",
       "      <td>149.633246</td>\n",
       "    </tr>\n",
       "  </tbody>\n",
       "</table>\n",
       "<p>100000 rows × 5 columns</p>\n",
       "</div>"
      ],
      "text/plain": [
       "          id        f0        f1        f2     product\n",
       "0      txEyH  0.705745 -0.497823  1.221170  105.280062\n",
       "1      2acmU  1.334711 -0.340164  4.365080   73.037750\n",
       "2      409Wp  1.022732  0.151990  1.419926   85.265647\n",
       "3      iJLyR -0.032172  0.139033  2.978566  168.620776\n",
       "4      Xdl7t  1.988431  0.155413  4.751769  154.036647\n",
       "...      ...       ...       ...       ...         ...\n",
       "99995  DLsed  0.971957  0.370953  6.075346  110.744026\n",
       "99996  QKivN  1.392429 -0.382606  1.273912  122.346843\n",
       "99997  3rnvd  1.029585  0.018787 -1.348308   64.375443\n",
       "99998  7kl59  0.998163 -0.528582  1.583869   74.040764\n",
       "99999  1CWhH  1.764754 -0.266417  5.722849  149.633246\n",
       "\n",
       "[100000 rows x 5 columns]"
      ]
     },
     "metadata": {},
     "output_type": "display_data"
    },
    {
     "name": "stdout",
     "output_type": "stream",
     "text": [
      "<class 'pandas.core.frame.DataFrame'>\n",
      "RangeIndex: 100000 entries, 0 to 99999\n",
      "Data columns (total 5 columns):\n",
      " #   Column   Non-Null Count   Dtype  \n",
      "---  ------   --------------   -----  \n",
      " 0   id       100000 non-null  object \n",
      " 1   f0       100000 non-null  float64\n",
      " 2   f1       100000 non-null  float64\n",
      " 3   f2       100000 non-null  float64\n",
      " 4   product  100000 non-null  float64\n",
      "dtypes: float64(4), object(1)\n",
      "memory usage: 3.8+ MB\n"
     ]
    },
    {
     "data": {
      "text/plain": [
       "None"
      ]
     },
     "metadata": {},
     "output_type": "display_data"
    },
    {
     "name": "stdout",
     "output_type": "stream",
     "text": [
      "                  f0             f1             f2        product\n",
      "count  100000.000000  100000.000000  100000.000000  100000.000000\n",
      "mean        0.500419       0.250143       2.502647      92.500000\n",
      "std         0.871832       0.504433       3.248248      44.288691\n",
      "min        -1.408605      -0.848218     -12.088328       0.000000\n",
      "25%        -0.072580      -0.200881       0.287748      56.497507\n",
      "50%         0.502360       0.250252       2.515969      91.849972\n",
      "75%         1.073581       0.700646       4.715088     128.564089\n",
      "max         2.362331       1.343769      16.003790     185.364347\n"
     ]
    }
   ],
   "source": [
    "#Visualizo y analizo el conjunto de datos_0\n",
    "display(df_0)\n",
    "display(df_0.info())\n",
    "print(df_0.describe())"
   ]
  },
  {
   "cell_type": "markdown",
   "metadata": {},
   "source": [
    "Se comprueba que la caracteristica \"id\" no tenga duplicados."
   ]
  },
  {
   "cell_type": "code",
   "execution_count": 5,
   "metadata": {},
   "outputs": [
    {
     "name": "stdout",
     "output_type": "stream",
     "text": [
      "10\n"
     ]
    },
    {
     "data": {
      "text/html": [
       "<div>\n",
       "<style scoped>\n",
       "    .dataframe tbody tr th:only-of-type {\n",
       "        vertical-align: middle;\n",
       "    }\n",
       "\n",
       "    .dataframe tbody tr th {\n",
       "        vertical-align: top;\n",
       "    }\n",
       "\n",
       "    .dataframe thead th {\n",
       "        text-align: right;\n",
       "    }\n",
       "</style>\n",
       "<table border=\"1\" class=\"dataframe\">\n",
       "  <thead>\n",
       "    <tr style=\"text-align: right;\">\n",
       "      <th></th>\n",
       "      <th>id</th>\n",
       "      <th>f0</th>\n",
       "      <th>f1</th>\n",
       "      <th>f2</th>\n",
       "      <th>product</th>\n",
       "    </tr>\n",
       "  </thead>\n",
       "  <tbody>\n",
       "    <tr>\n",
       "      <th>931</th>\n",
       "      <td>HZww2</td>\n",
       "      <td>0.755284</td>\n",
       "      <td>0.368511</td>\n",
       "      <td>1.863211</td>\n",
       "      <td>30.681774</td>\n",
       "    </tr>\n",
       "    <tr>\n",
       "      <th>1364</th>\n",
       "      <td>bxg6G</td>\n",
       "      <td>0.411645</td>\n",
       "      <td>0.856830</td>\n",
       "      <td>-3.653440</td>\n",
       "      <td>73.604260</td>\n",
       "    </tr>\n",
       "    <tr>\n",
       "      <th>1949</th>\n",
       "      <td>QcMuo</td>\n",
       "      <td>0.506563</td>\n",
       "      <td>-0.323775</td>\n",
       "      <td>-2.215583</td>\n",
       "      <td>75.496502</td>\n",
       "    </tr>\n",
       "    <tr>\n",
       "      <th>3389</th>\n",
       "      <td>A5aEY</td>\n",
       "      <td>-0.039949</td>\n",
       "      <td>0.156872</td>\n",
       "      <td>0.209861</td>\n",
       "      <td>89.249364</td>\n",
       "    </tr>\n",
       "    <tr>\n",
       "      <th>7530</th>\n",
       "      <td>HZww2</td>\n",
       "      <td>1.061194</td>\n",
       "      <td>-0.373969</td>\n",
       "      <td>10.430210</td>\n",
       "      <td>158.828695</td>\n",
       "    </tr>\n",
       "    <tr>\n",
       "      <th>16633</th>\n",
       "      <td>fiKDv</td>\n",
       "      <td>0.157341</td>\n",
       "      <td>1.028359</td>\n",
       "      <td>5.585586</td>\n",
       "      <td>95.817889</td>\n",
       "    </tr>\n",
       "    <tr>\n",
       "      <th>21426</th>\n",
       "      <td>Tdehs</td>\n",
       "      <td>0.829407</td>\n",
       "      <td>0.298807</td>\n",
       "      <td>-0.049563</td>\n",
       "      <td>96.035308</td>\n",
       "    </tr>\n",
       "    <tr>\n",
       "      <th>41724</th>\n",
       "      <td>bxg6G</td>\n",
       "      <td>-0.823752</td>\n",
       "      <td>0.546319</td>\n",
       "      <td>3.630479</td>\n",
       "      <td>93.007798</td>\n",
       "    </tr>\n",
       "    <tr>\n",
       "      <th>42529</th>\n",
       "      <td>AGS9W</td>\n",
       "      <td>1.454747</td>\n",
       "      <td>-0.479651</td>\n",
       "      <td>0.683380</td>\n",
       "      <td>126.370504</td>\n",
       "    </tr>\n",
       "    <tr>\n",
       "      <th>51970</th>\n",
       "      <td>A5aEY</td>\n",
       "      <td>-0.180335</td>\n",
       "      <td>0.935548</td>\n",
       "      <td>-2.094773</td>\n",
       "      <td>33.020205</td>\n",
       "    </tr>\n",
       "    <tr>\n",
       "      <th>60140</th>\n",
       "      <td>TtcGQ</td>\n",
       "      <td>0.569276</td>\n",
       "      <td>-0.104876</td>\n",
       "      <td>6.440215</td>\n",
       "      <td>85.350186</td>\n",
       "    </tr>\n",
       "    <tr>\n",
       "      <th>63593</th>\n",
       "      <td>QcMuo</td>\n",
       "      <td>0.635635</td>\n",
       "      <td>-0.473422</td>\n",
       "      <td>0.862670</td>\n",
       "      <td>64.578675</td>\n",
       "    </tr>\n",
       "    <tr>\n",
       "      <th>64022</th>\n",
       "      <td>74z30</td>\n",
       "      <td>0.741456</td>\n",
       "      <td>0.459229</td>\n",
       "      <td>5.153109</td>\n",
       "      <td>140.771492</td>\n",
       "    </tr>\n",
       "    <tr>\n",
       "      <th>66136</th>\n",
       "      <td>74z30</td>\n",
       "      <td>1.084962</td>\n",
       "      <td>-0.312358</td>\n",
       "      <td>6.990771</td>\n",
       "      <td>127.643327</td>\n",
       "    </tr>\n",
       "    <tr>\n",
       "      <th>69163</th>\n",
       "      <td>AGS9W</td>\n",
       "      <td>-0.933795</td>\n",
       "      <td>0.116194</td>\n",
       "      <td>-3.655896</td>\n",
       "      <td>19.230453</td>\n",
       "    </tr>\n",
       "    <tr>\n",
       "      <th>75715</th>\n",
       "      <td>Tdehs</td>\n",
       "      <td>0.112079</td>\n",
       "      <td>0.430296</td>\n",
       "      <td>3.218993</td>\n",
       "      <td>60.964018</td>\n",
       "    </tr>\n",
       "    <tr>\n",
       "      <th>89582</th>\n",
       "      <td>bsk9y</td>\n",
       "      <td>0.398908</td>\n",
       "      <td>-0.400253</td>\n",
       "      <td>10.122376</td>\n",
       "      <td>163.433078</td>\n",
       "    </tr>\n",
       "    <tr>\n",
       "      <th>90815</th>\n",
       "      <td>fiKDv</td>\n",
       "      <td>0.049883</td>\n",
       "      <td>0.841313</td>\n",
       "      <td>6.394613</td>\n",
       "      <td>137.346586</td>\n",
       "    </tr>\n",
       "    <tr>\n",
       "      <th>92341</th>\n",
       "      <td>TtcGQ</td>\n",
       "      <td>0.110711</td>\n",
       "      <td>1.022689</td>\n",
       "      <td>0.911381</td>\n",
       "      <td>101.318008</td>\n",
       "    </tr>\n",
       "    <tr>\n",
       "      <th>97785</th>\n",
       "      <td>bsk9y</td>\n",
       "      <td>0.378429</td>\n",
       "      <td>0.005837</td>\n",
       "      <td>0.160827</td>\n",
       "      <td>160.637302</td>\n",
       "    </tr>\n",
       "  </tbody>\n",
       "</table>\n",
       "</div>"
      ],
      "text/plain": [
       "          id        f0        f1         f2     product\n",
       "931    HZww2  0.755284  0.368511   1.863211   30.681774\n",
       "1364   bxg6G  0.411645  0.856830  -3.653440   73.604260\n",
       "1949   QcMuo  0.506563 -0.323775  -2.215583   75.496502\n",
       "3389   A5aEY -0.039949  0.156872   0.209861   89.249364\n",
       "7530   HZww2  1.061194 -0.373969  10.430210  158.828695\n",
       "16633  fiKDv  0.157341  1.028359   5.585586   95.817889\n",
       "21426  Tdehs  0.829407  0.298807  -0.049563   96.035308\n",
       "41724  bxg6G -0.823752  0.546319   3.630479   93.007798\n",
       "42529  AGS9W  1.454747 -0.479651   0.683380  126.370504\n",
       "51970  A5aEY -0.180335  0.935548  -2.094773   33.020205\n",
       "60140  TtcGQ  0.569276 -0.104876   6.440215   85.350186\n",
       "63593  QcMuo  0.635635 -0.473422   0.862670   64.578675\n",
       "64022  74z30  0.741456  0.459229   5.153109  140.771492\n",
       "66136  74z30  1.084962 -0.312358   6.990771  127.643327\n",
       "69163  AGS9W -0.933795  0.116194  -3.655896   19.230453\n",
       "75715  Tdehs  0.112079  0.430296   3.218993   60.964018\n",
       "89582  bsk9y  0.398908 -0.400253  10.122376  163.433078\n",
       "90815  fiKDv  0.049883  0.841313   6.394613  137.346586\n",
       "92341  TtcGQ  0.110711  1.022689   0.911381  101.318008\n",
       "97785  bsk9y  0.378429  0.005837   0.160827  160.637302"
      ]
     },
     "metadata": {},
     "output_type": "display_data"
    },
    {
     "data": {
      "text/html": [
       "<div>\n",
       "<style scoped>\n",
       "    .dataframe tbody tr th:only-of-type {\n",
       "        vertical-align: middle;\n",
       "    }\n",
       "\n",
       "    .dataframe tbody tr th {\n",
       "        vertical-align: top;\n",
       "    }\n",
       "\n",
       "    .dataframe thead th {\n",
       "        text-align: right;\n",
       "    }\n",
       "</style>\n",
       "<table border=\"1\" class=\"dataframe\">\n",
       "  <thead>\n",
       "    <tr style=\"text-align: right;\">\n",
       "      <th></th>\n",
       "      <th>id</th>\n",
       "      <th>f0</th>\n",
       "      <th>f1</th>\n",
       "      <th>f2</th>\n",
       "      <th>product</th>\n",
       "    </tr>\n",
       "  </thead>\n",
       "  <tbody>\n",
       "    <tr>\n",
       "      <th>0</th>\n",
       "      <td>txEyH</td>\n",
       "      <td>0.705745</td>\n",
       "      <td>-0.497823</td>\n",
       "      <td>1.221170</td>\n",
       "      <td>105.280062</td>\n",
       "    </tr>\n",
       "    <tr>\n",
       "      <th>1</th>\n",
       "      <td>2acmU</td>\n",
       "      <td>1.334711</td>\n",
       "      <td>-0.340164</td>\n",
       "      <td>4.365080</td>\n",
       "      <td>73.037750</td>\n",
       "    </tr>\n",
       "    <tr>\n",
       "      <th>2</th>\n",
       "      <td>409Wp</td>\n",
       "      <td>1.022732</td>\n",
       "      <td>0.151990</td>\n",
       "      <td>1.419926</td>\n",
       "      <td>85.265647</td>\n",
       "    </tr>\n",
       "    <tr>\n",
       "      <th>3</th>\n",
       "      <td>iJLyR</td>\n",
       "      <td>-0.032172</td>\n",
       "      <td>0.139033</td>\n",
       "      <td>2.978566</td>\n",
       "      <td>168.620776</td>\n",
       "    </tr>\n",
       "    <tr>\n",
       "      <th>4</th>\n",
       "      <td>Xdl7t</td>\n",
       "      <td>1.988431</td>\n",
       "      <td>0.155413</td>\n",
       "      <td>4.751769</td>\n",
       "      <td>154.036647</td>\n",
       "    </tr>\n",
       "    <tr>\n",
       "      <th>...</th>\n",
       "      <td>...</td>\n",
       "      <td>...</td>\n",
       "      <td>...</td>\n",
       "      <td>...</td>\n",
       "      <td>...</td>\n",
       "    </tr>\n",
       "    <tr>\n",
       "      <th>99995</th>\n",
       "      <td>DLsed</td>\n",
       "      <td>0.971957</td>\n",
       "      <td>0.370953</td>\n",
       "      <td>6.075346</td>\n",
       "      <td>110.744026</td>\n",
       "    </tr>\n",
       "    <tr>\n",
       "      <th>99996</th>\n",
       "      <td>QKivN</td>\n",
       "      <td>1.392429</td>\n",
       "      <td>-0.382606</td>\n",
       "      <td>1.273912</td>\n",
       "      <td>122.346843</td>\n",
       "    </tr>\n",
       "    <tr>\n",
       "      <th>99997</th>\n",
       "      <td>3rnvd</td>\n",
       "      <td>1.029585</td>\n",
       "      <td>0.018787</td>\n",
       "      <td>-1.348308</td>\n",
       "      <td>64.375443</td>\n",
       "    </tr>\n",
       "    <tr>\n",
       "      <th>99998</th>\n",
       "      <td>7kl59</td>\n",
       "      <td>0.998163</td>\n",
       "      <td>-0.528582</td>\n",
       "      <td>1.583869</td>\n",
       "      <td>74.040764</td>\n",
       "    </tr>\n",
       "    <tr>\n",
       "      <th>99999</th>\n",
       "      <td>1CWhH</td>\n",
       "      <td>1.764754</td>\n",
       "      <td>-0.266417</td>\n",
       "      <td>5.722849</td>\n",
       "      <td>149.633246</td>\n",
       "    </tr>\n",
       "  </tbody>\n",
       "</table>\n",
       "<p>100000 rows × 5 columns</p>\n",
       "</div>"
      ],
      "text/plain": [
       "          id        f0        f1        f2     product\n",
       "0      txEyH  0.705745 -0.497823  1.221170  105.280062\n",
       "1      2acmU  1.334711 -0.340164  4.365080   73.037750\n",
       "2      409Wp  1.022732  0.151990  1.419926   85.265647\n",
       "3      iJLyR -0.032172  0.139033  2.978566  168.620776\n",
       "4      Xdl7t  1.988431  0.155413  4.751769  154.036647\n",
       "...      ...       ...       ...       ...         ...\n",
       "99995  DLsed  0.971957  0.370953  6.075346  110.744026\n",
       "99996  QKivN  1.392429 -0.382606  1.273912  122.346843\n",
       "99997  3rnvd  1.029585  0.018787 -1.348308   64.375443\n",
       "99998  7kl59  0.998163 -0.528582  1.583869   74.040764\n",
       "99999  1CWhH  1.764754 -0.266417  5.722849  149.633246\n",
       "\n",
       "[100000 rows x 5 columns]"
      ]
     },
     "metadata": {},
     "output_type": "display_data"
    }
   ],
   "source": [
    "# se revisan que duplicados hay en el df_0\n",
    "duplicados(df_0, \"id\")\n",
    "\n",
    "# se elimina caracteristica \"id\" de df_0\n",
    "df_0 = del_car(df_0,\"id\")"
   ]
  },
  {
   "cell_type": "code",
   "execution_count": 6,
   "metadata": {},
   "outputs": [
    {
     "data": {
      "text/html": [
       "<div>\n",
       "<style scoped>\n",
       "    .dataframe tbody tr th:only-of-type {\n",
       "        vertical-align: middle;\n",
       "    }\n",
       "\n",
       "    .dataframe tbody tr th {\n",
       "        vertical-align: top;\n",
       "    }\n",
       "\n",
       "    .dataframe thead th {\n",
       "        text-align: right;\n",
       "    }\n",
       "</style>\n",
       "<table border=\"1\" class=\"dataframe\">\n",
       "  <thead>\n",
       "    <tr style=\"text-align: right;\">\n",
       "      <th></th>\n",
       "      <th>id</th>\n",
       "      <th>f0</th>\n",
       "      <th>f1</th>\n",
       "      <th>f2</th>\n",
       "      <th>product</th>\n",
       "    </tr>\n",
       "  </thead>\n",
       "  <tbody>\n",
       "    <tr>\n",
       "      <th>0</th>\n",
       "      <td>kBEdx</td>\n",
       "      <td>-15.001348</td>\n",
       "      <td>-8.276000</td>\n",
       "      <td>-0.005876</td>\n",
       "      <td>3.179103</td>\n",
       "    </tr>\n",
       "    <tr>\n",
       "      <th>1</th>\n",
       "      <td>62mP7</td>\n",
       "      <td>14.272088</td>\n",
       "      <td>-3.475083</td>\n",
       "      <td>0.999183</td>\n",
       "      <td>26.953261</td>\n",
       "    </tr>\n",
       "    <tr>\n",
       "      <th>2</th>\n",
       "      <td>vyE1P</td>\n",
       "      <td>6.263187</td>\n",
       "      <td>-5.948386</td>\n",
       "      <td>5.001160</td>\n",
       "      <td>134.766305</td>\n",
       "    </tr>\n",
       "    <tr>\n",
       "      <th>3</th>\n",
       "      <td>KcrkZ</td>\n",
       "      <td>-13.081196</td>\n",
       "      <td>-11.506057</td>\n",
       "      <td>4.999415</td>\n",
       "      <td>137.945408</td>\n",
       "    </tr>\n",
       "    <tr>\n",
       "      <th>4</th>\n",
       "      <td>AHL4O</td>\n",
       "      <td>12.702195</td>\n",
       "      <td>-8.147433</td>\n",
       "      <td>5.004363</td>\n",
       "      <td>134.766305</td>\n",
       "    </tr>\n",
       "    <tr>\n",
       "      <th>...</th>\n",
       "      <td>...</td>\n",
       "      <td>...</td>\n",
       "      <td>...</td>\n",
       "      <td>...</td>\n",
       "      <td>...</td>\n",
       "    </tr>\n",
       "    <tr>\n",
       "      <th>99995</th>\n",
       "      <td>QywKC</td>\n",
       "      <td>9.535637</td>\n",
       "      <td>-6.878139</td>\n",
       "      <td>1.998296</td>\n",
       "      <td>53.906522</td>\n",
       "    </tr>\n",
       "    <tr>\n",
       "      <th>99996</th>\n",
       "      <td>ptvty</td>\n",
       "      <td>-10.160631</td>\n",
       "      <td>-12.558096</td>\n",
       "      <td>5.005581</td>\n",
       "      <td>137.945408</td>\n",
       "    </tr>\n",
       "    <tr>\n",
       "      <th>99997</th>\n",
       "      <td>09gWa</td>\n",
       "      <td>-7.378891</td>\n",
       "      <td>-3.084104</td>\n",
       "      <td>4.998651</td>\n",
       "      <td>137.945408</td>\n",
       "    </tr>\n",
       "    <tr>\n",
       "      <th>99998</th>\n",
       "      <td>rqwUm</td>\n",
       "      <td>0.665714</td>\n",
       "      <td>-6.152593</td>\n",
       "      <td>1.000146</td>\n",
       "      <td>30.132364</td>\n",
       "    </tr>\n",
       "    <tr>\n",
       "      <th>99999</th>\n",
       "      <td>relB0</td>\n",
       "      <td>-3.426139</td>\n",
       "      <td>-7.794274</td>\n",
       "      <td>-0.003299</td>\n",
       "      <td>3.179103</td>\n",
       "    </tr>\n",
       "  </tbody>\n",
       "</table>\n",
       "<p>100000 rows × 5 columns</p>\n",
       "</div>"
      ],
      "text/plain": [
       "          id         f0         f1        f2     product\n",
       "0      kBEdx -15.001348  -8.276000 -0.005876    3.179103\n",
       "1      62mP7  14.272088  -3.475083  0.999183   26.953261\n",
       "2      vyE1P   6.263187  -5.948386  5.001160  134.766305\n",
       "3      KcrkZ -13.081196 -11.506057  4.999415  137.945408\n",
       "4      AHL4O  12.702195  -8.147433  5.004363  134.766305\n",
       "...      ...        ...        ...       ...         ...\n",
       "99995  QywKC   9.535637  -6.878139  1.998296   53.906522\n",
       "99996  ptvty -10.160631 -12.558096  5.005581  137.945408\n",
       "99997  09gWa  -7.378891  -3.084104  4.998651  137.945408\n",
       "99998  rqwUm   0.665714  -6.152593  1.000146   30.132364\n",
       "99999  relB0  -3.426139  -7.794274 -0.003299    3.179103\n",
       "\n",
       "[100000 rows x 5 columns]"
      ]
     },
     "metadata": {},
     "output_type": "display_data"
    },
    {
     "name": "stdout",
     "output_type": "stream",
     "text": [
      "<class 'pandas.core.frame.DataFrame'>\n",
      "RangeIndex: 100000 entries, 0 to 99999\n",
      "Data columns (total 5 columns):\n",
      " #   Column   Non-Null Count   Dtype  \n",
      "---  ------   --------------   -----  \n",
      " 0   id       100000 non-null  object \n",
      " 1   f0       100000 non-null  float64\n",
      " 2   f1       100000 non-null  float64\n",
      " 3   f2       100000 non-null  float64\n",
      " 4   product  100000 non-null  float64\n",
      "dtypes: float64(4), object(1)\n",
      "memory usage: 3.8+ MB\n"
     ]
    },
    {
     "data": {
      "text/plain": [
       "None"
      ]
     },
     "metadata": {},
     "output_type": "display_data"
    },
    {
     "name": "stdout",
     "output_type": "stream",
     "text": [
      "                  f0             f1             f2        product\n",
      "count  100000.000000  100000.000000  100000.000000  100000.000000\n",
      "mean        1.141296      -4.796579       2.494541      68.825000\n",
      "std         8.965932       5.119872       1.703572      45.944423\n",
      "min       -31.609576     -26.358598      -0.018144       0.000000\n",
      "25%        -6.298551      -8.267985       1.000021      26.953261\n",
      "50%         1.153055      -4.813172       2.011479      57.085625\n",
      "75%         8.621015      -1.332816       3.999904     107.813044\n",
      "max        29.421755      18.734063       5.019721     137.945408\n"
     ]
    }
   ],
   "source": [
    "#Visualizo y analizo el conjunto de datos_1\n",
    "display(df_1)\n",
    "display(df_1.info())\n",
    "print(df_1.describe())"
   ]
  },
  {
   "cell_type": "markdown",
   "metadata": {},
   "source": [
    "Se comprueba que la caracteristica \"id\" no tenga duplicados."
   ]
  },
  {
   "cell_type": "code",
   "execution_count": 7,
   "metadata": {},
   "outputs": [
    {
     "name": "stdout",
     "output_type": "stream",
     "text": [
      "4\n"
     ]
    },
    {
     "data": {
      "text/html": [
       "<div>\n",
       "<style scoped>\n",
       "    .dataframe tbody tr th:only-of-type {\n",
       "        vertical-align: middle;\n",
       "    }\n",
       "\n",
       "    .dataframe tbody tr th {\n",
       "        vertical-align: top;\n",
       "    }\n",
       "\n",
       "    .dataframe thead th {\n",
       "        text-align: right;\n",
       "    }\n",
       "</style>\n",
       "<table border=\"1\" class=\"dataframe\">\n",
       "  <thead>\n",
       "    <tr style=\"text-align: right;\">\n",
       "      <th></th>\n",
       "      <th>id</th>\n",
       "      <th>f0</th>\n",
       "      <th>f1</th>\n",
       "      <th>f2</th>\n",
       "      <th>product</th>\n",
       "    </tr>\n",
       "  </thead>\n",
       "  <tbody>\n",
       "    <tr>\n",
       "      <th>1305</th>\n",
       "      <td>LHZR0</td>\n",
       "      <td>11.170835</td>\n",
       "      <td>-1.945066</td>\n",
       "      <td>3.002872</td>\n",
       "      <td>80.859783</td>\n",
       "    </tr>\n",
       "    <tr>\n",
       "      <th>2721</th>\n",
       "      <td>bfPNe</td>\n",
       "      <td>-9.494442</td>\n",
       "      <td>-5.463692</td>\n",
       "      <td>4.006042</td>\n",
       "      <td>110.992147</td>\n",
       "    </tr>\n",
       "    <tr>\n",
       "      <th>5849</th>\n",
       "      <td>5ltQ6</td>\n",
       "      <td>-3.435401</td>\n",
       "      <td>-12.296043</td>\n",
       "      <td>1.999796</td>\n",
       "      <td>57.085625</td>\n",
       "    </tr>\n",
       "    <tr>\n",
       "      <th>41906</th>\n",
       "      <td>LHZR0</td>\n",
       "      <td>-8.989672</td>\n",
       "      <td>-4.286607</td>\n",
       "      <td>2.009139</td>\n",
       "      <td>57.085625</td>\n",
       "    </tr>\n",
       "    <tr>\n",
       "      <th>47591</th>\n",
       "      <td>wt4Uk</td>\n",
       "      <td>-9.091098</td>\n",
       "      <td>-8.109279</td>\n",
       "      <td>-0.002314</td>\n",
       "      <td>3.179103</td>\n",
       "    </tr>\n",
       "    <tr>\n",
       "      <th>82178</th>\n",
       "      <td>bfPNe</td>\n",
       "      <td>-6.202799</td>\n",
       "      <td>-4.820045</td>\n",
       "      <td>2.995107</td>\n",
       "      <td>84.038886</td>\n",
       "    </tr>\n",
       "    <tr>\n",
       "      <th>82873</th>\n",
       "      <td>wt4Uk</td>\n",
       "      <td>10.259972</td>\n",
       "      <td>-9.376355</td>\n",
       "      <td>4.994297</td>\n",
       "      <td>134.766305</td>\n",
       "    </tr>\n",
       "    <tr>\n",
       "      <th>84461</th>\n",
       "      <td>5ltQ6</td>\n",
       "      <td>18.213839</td>\n",
       "      <td>2.191999</td>\n",
       "      <td>3.993869</td>\n",
       "      <td>107.813044</td>\n",
       "    </tr>\n",
       "  </tbody>\n",
       "</table>\n",
       "</div>"
      ],
      "text/plain": [
       "          id         f0         f1        f2     product\n",
       "1305   LHZR0  11.170835  -1.945066  3.002872   80.859783\n",
       "2721   bfPNe  -9.494442  -5.463692  4.006042  110.992147\n",
       "5849   5ltQ6  -3.435401 -12.296043  1.999796   57.085625\n",
       "41906  LHZR0  -8.989672  -4.286607  2.009139   57.085625\n",
       "47591  wt4Uk  -9.091098  -8.109279 -0.002314    3.179103\n",
       "82178  bfPNe  -6.202799  -4.820045  2.995107   84.038886\n",
       "82873  wt4Uk  10.259972  -9.376355  4.994297  134.766305\n",
       "84461  5ltQ6  18.213839   2.191999  3.993869  107.813044"
      ]
     },
     "metadata": {},
     "output_type": "display_data"
    },
    {
     "data": {
      "text/html": [
       "<div>\n",
       "<style scoped>\n",
       "    .dataframe tbody tr th:only-of-type {\n",
       "        vertical-align: middle;\n",
       "    }\n",
       "\n",
       "    .dataframe tbody tr th {\n",
       "        vertical-align: top;\n",
       "    }\n",
       "\n",
       "    .dataframe thead th {\n",
       "        text-align: right;\n",
       "    }\n",
       "</style>\n",
       "<table border=\"1\" class=\"dataframe\">\n",
       "  <thead>\n",
       "    <tr style=\"text-align: right;\">\n",
       "      <th></th>\n",
       "      <th>f0</th>\n",
       "      <th>f1</th>\n",
       "      <th>f2</th>\n",
       "      <th>product</th>\n",
       "    </tr>\n",
       "  </thead>\n",
       "  <tbody>\n",
       "    <tr>\n",
       "      <th>0</th>\n",
       "      <td>0.705745</td>\n",
       "      <td>-0.497823</td>\n",
       "      <td>1.221170</td>\n",
       "      <td>105.280062</td>\n",
       "    </tr>\n",
       "    <tr>\n",
       "      <th>1</th>\n",
       "      <td>1.334711</td>\n",
       "      <td>-0.340164</td>\n",
       "      <td>4.365080</td>\n",
       "      <td>73.037750</td>\n",
       "    </tr>\n",
       "    <tr>\n",
       "      <th>2</th>\n",
       "      <td>1.022732</td>\n",
       "      <td>0.151990</td>\n",
       "      <td>1.419926</td>\n",
       "      <td>85.265647</td>\n",
       "    </tr>\n",
       "    <tr>\n",
       "      <th>3</th>\n",
       "      <td>-0.032172</td>\n",
       "      <td>0.139033</td>\n",
       "      <td>2.978566</td>\n",
       "      <td>168.620776</td>\n",
       "    </tr>\n",
       "    <tr>\n",
       "      <th>4</th>\n",
       "      <td>1.988431</td>\n",
       "      <td>0.155413</td>\n",
       "      <td>4.751769</td>\n",
       "      <td>154.036647</td>\n",
       "    </tr>\n",
       "    <tr>\n",
       "      <th>...</th>\n",
       "      <td>...</td>\n",
       "      <td>...</td>\n",
       "      <td>...</td>\n",
       "      <td>...</td>\n",
       "    </tr>\n",
       "    <tr>\n",
       "      <th>99995</th>\n",
       "      <td>0.971957</td>\n",
       "      <td>0.370953</td>\n",
       "      <td>6.075346</td>\n",
       "      <td>110.744026</td>\n",
       "    </tr>\n",
       "    <tr>\n",
       "      <th>99996</th>\n",
       "      <td>1.392429</td>\n",
       "      <td>-0.382606</td>\n",
       "      <td>1.273912</td>\n",
       "      <td>122.346843</td>\n",
       "    </tr>\n",
       "    <tr>\n",
       "      <th>99997</th>\n",
       "      <td>1.029585</td>\n",
       "      <td>0.018787</td>\n",
       "      <td>-1.348308</td>\n",
       "      <td>64.375443</td>\n",
       "    </tr>\n",
       "    <tr>\n",
       "      <th>99998</th>\n",
       "      <td>0.998163</td>\n",
       "      <td>-0.528582</td>\n",
       "      <td>1.583869</td>\n",
       "      <td>74.040764</td>\n",
       "    </tr>\n",
       "    <tr>\n",
       "      <th>99999</th>\n",
       "      <td>1.764754</td>\n",
       "      <td>-0.266417</td>\n",
       "      <td>5.722849</td>\n",
       "      <td>149.633246</td>\n",
       "    </tr>\n",
       "  </tbody>\n",
       "</table>\n",
       "<p>100000 rows × 4 columns</p>\n",
       "</div>"
      ],
      "text/plain": [
       "             f0        f1        f2     product\n",
       "0      0.705745 -0.497823  1.221170  105.280062\n",
       "1      1.334711 -0.340164  4.365080   73.037750\n",
       "2      1.022732  0.151990  1.419926   85.265647\n",
       "3     -0.032172  0.139033  2.978566  168.620776\n",
       "4      1.988431  0.155413  4.751769  154.036647\n",
       "...         ...       ...       ...         ...\n",
       "99995  0.971957  0.370953  6.075346  110.744026\n",
       "99996  1.392429 -0.382606  1.273912  122.346843\n",
       "99997  1.029585  0.018787 -1.348308   64.375443\n",
       "99998  0.998163 -0.528582  1.583869   74.040764\n",
       "99999  1.764754 -0.266417  5.722849  149.633246\n",
       "\n",
       "[100000 rows x 4 columns]"
      ]
     },
     "metadata": {},
     "output_type": "display_data"
    }
   ],
   "source": [
    "# se comprueba de que no haya clientes duplicados\n",
    "#print( df_1[\"id\"].duplicated().sum())\n",
    "#duplicated_id = list(df_1[df_1[\"id\"].duplicated()]['id'].unique())\n",
    "#display(df_1[df_1.id.isin(duplicated_id)])\n",
    "\n",
    "# se elimina caracteristica id\n",
    "#df_1 = df_1.drop(['id'], axis=1)\n",
    "#display(df_1)\n",
    "# se revisan que duplicados hay en el df_1\n",
    "duplicados(df_1, \"id\")\n",
    "\n",
    "# se elimina caracteristica \"id\" de df_1\n",
    "df_1 = del_car(df_1,\"id\")"
   ]
  },
  {
   "cell_type": "markdown",
   "metadata": {},
   "source": [
    "<div class=\"alert alert-block alert-success\">\n",
    "<b>Comentario del revisor</b> <a class=\"tocSkip\"></a>\n",
    "\n",
    "Buen uso de los métodos de pandas para explorar los datos.\n",
    "</div>"
   ]
  },
  {
   "cell_type": "code",
   "execution_count": 8,
   "metadata": {},
   "outputs": [
    {
     "data": {
      "text/html": [
       "<div>\n",
       "<style scoped>\n",
       "    .dataframe tbody tr th:only-of-type {\n",
       "        vertical-align: middle;\n",
       "    }\n",
       "\n",
       "    .dataframe tbody tr th {\n",
       "        vertical-align: top;\n",
       "    }\n",
       "\n",
       "    .dataframe thead th {\n",
       "        text-align: right;\n",
       "    }\n",
       "</style>\n",
       "<table border=\"1\" class=\"dataframe\">\n",
       "  <thead>\n",
       "    <tr style=\"text-align: right;\">\n",
       "      <th></th>\n",
       "      <th>id</th>\n",
       "      <th>f0</th>\n",
       "      <th>f1</th>\n",
       "      <th>f2</th>\n",
       "      <th>product</th>\n",
       "    </tr>\n",
       "  </thead>\n",
       "  <tbody>\n",
       "    <tr>\n",
       "      <th>0</th>\n",
       "      <td>fwXo0</td>\n",
       "      <td>-1.146987</td>\n",
       "      <td>0.963328</td>\n",
       "      <td>-0.828965</td>\n",
       "      <td>27.758673</td>\n",
       "    </tr>\n",
       "    <tr>\n",
       "      <th>1</th>\n",
       "      <td>WJtFt</td>\n",
       "      <td>0.262778</td>\n",
       "      <td>0.269839</td>\n",
       "      <td>-2.530187</td>\n",
       "      <td>56.069697</td>\n",
       "    </tr>\n",
       "    <tr>\n",
       "      <th>2</th>\n",
       "      <td>ovLUW</td>\n",
       "      <td>0.194587</td>\n",
       "      <td>0.289035</td>\n",
       "      <td>-5.586433</td>\n",
       "      <td>62.871910</td>\n",
       "    </tr>\n",
       "    <tr>\n",
       "      <th>3</th>\n",
       "      <td>q6cA6</td>\n",
       "      <td>2.236060</td>\n",
       "      <td>-0.553760</td>\n",
       "      <td>0.930038</td>\n",
       "      <td>114.572842</td>\n",
       "    </tr>\n",
       "    <tr>\n",
       "      <th>4</th>\n",
       "      <td>WPMUX</td>\n",
       "      <td>-0.515993</td>\n",
       "      <td>1.716266</td>\n",
       "      <td>5.899011</td>\n",
       "      <td>149.600746</td>\n",
       "    </tr>\n",
       "    <tr>\n",
       "      <th>...</th>\n",
       "      <td>...</td>\n",
       "      <td>...</td>\n",
       "      <td>...</td>\n",
       "      <td>...</td>\n",
       "      <td>...</td>\n",
       "    </tr>\n",
       "    <tr>\n",
       "      <th>99995</th>\n",
       "      <td>4GxBu</td>\n",
       "      <td>-1.777037</td>\n",
       "      <td>1.125220</td>\n",
       "      <td>6.263374</td>\n",
       "      <td>172.327046</td>\n",
       "    </tr>\n",
       "    <tr>\n",
       "      <th>99996</th>\n",
       "      <td>YKFjq</td>\n",
       "      <td>-1.261523</td>\n",
       "      <td>-0.894828</td>\n",
       "      <td>2.524545</td>\n",
       "      <td>138.748846</td>\n",
       "    </tr>\n",
       "    <tr>\n",
       "      <th>99997</th>\n",
       "      <td>tKPY3</td>\n",
       "      <td>-1.199934</td>\n",
       "      <td>-2.957637</td>\n",
       "      <td>5.219411</td>\n",
       "      <td>157.080080</td>\n",
       "    </tr>\n",
       "    <tr>\n",
       "      <th>99998</th>\n",
       "      <td>nmxp2</td>\n",
       "      <td>-2.419896</td>\n",
       "      <td>2.417221</td>\n",
       "      <td>-5.548444</td>\n",
       "      <td>51.795253</td>\n",
       "    </tr>\n",
       "    <tr>\n",
       "      <th>99999</th>\n",
       "      <td>V9kWn</td>\n",
       "      <td>-2.551421</td>\n",
       "      <td>-2.025625</td>\n",
       "      <td>6.090891</td>\n",
       "      <td>102.775767</td>\n",
       "    </tr>\n",
       "  </tbody>\n",
       "</table>\n",
       "<p>100000 rows × 5 columns</p>\n",
       "</div>"
      ],
      "text/plain": [
       "          id        f0        f1        f2     product\n",
       "0      fwXo0 -1.146987  0.963328 -0.828965   27.758673\n",
       "1      WJtFt  0.262778  0.269839 -2.530187   56.069697\n",
       "2      ovLUW  0.194587  0.289035 -5.586433   62.871910\n",
       "3      q6cA6  2.236060 -0.553760  0.930038  114.572842\n",
       "4      WPMUX -0.515993  1.716266  5.899011  149.600746\n",
       "...      ...       ...       ...       ...         ...\n",
       "99995  4GxBu -1.777037  1.125220  6.263374  172.327046\n",
       "99996  YKFjq -1.261523 -0.894828  2.524545  138.748846\n",
       "99997  tKPY3 -1.199934 -2.957637  5.219411  157.080080\n",
       "99998  nmxp2 -2.419896  2.417221 -5.548444   51.795253\n",
       "99999  V9kWn -2.551421 -2.025625  6.090891  102.775767\n",
       "\n",
       "[100000 rows x 5 columns]"
      ]
     },
     "metadata": {},
     "output_type": "display_data"
    },
    {
     "name": "stdout",
     "output_type": "stream",
     "text": [
      "<class 'pandas.core.frame.DataFrame'>\n",
      "RangeIndex: 100000 entries, 0 to 99999\n",
      "Data columns (total 5 columns):\n",
      " #   Column   Non-Null Count   Dtype  \n",
      "---  ------   --------------   -----  \n",
      " 0   id       100000 non-null  object \n",
      " 1   f0       100000 non-null  float64\n",
      " 2   f1       100000 non-null  float64\n",
      " 3   f2       100000 non-null  float64\n",
      " 4   product  100000 non-null  float64\n",
      "dtypes: float64(4), object(1)\n",
      "memory usage: 3.8+ MB\n"
     ]
    },
    {
     "data": {
      "text/plain": [
       "None"
      ]
     },
     "metadata": {},
     "output_type": "display_data"
    },
    {
     "name": "stdout",
     "output_type": "stream",
     "text": [
      "                  f0             f1             f2        product\n",
      "count  100000.000000  100000.000000  100000.000000  100000.000000\n",
      "mean        0.002023      -0.002081       2.495128      95.000000\n",
      "std         1.732045       1.730417       3.473445      44.749921\n",
      "min        -8.760004      -7.084020     -11.970335       0.000000\n",
      "25%        -1.162288      -1.174820       0.130359      59.450441\n",
      "50%         0.009424      -0.009482       2.484236      94.925613\n",
      "75%         1.158535       1.163678       4.858794     130.595027\n",
      "max         7.238262       7.844801      16.739402     190.029838\n"
     ]
    }
   ],
   "source": [
    "#Visualizo y analizo el conjunto de datos_2\n",
    "display(df_2)\n",
    "display(df_2.info())\n",
    "print(df_2.describe())"
   ]
  },
  {
   "cell_type": "markdown",
   "metadata": {},
   "source": [
    "Se comprueba que la caracteristica \"id\" no tenga duplicados."
   ]
  },
  {
   "cell_type": "code",
   "execution_count": 9,
   "metadata": {},
   "outputs": [
    {
     "name": "stdout",
     "output_type": "stream",
     "text": [
      "4\n"
     ]
    },
    {
     "data": {
      "text/html": [
       "<div>\n",
       "<style scoped>\n",
       "    .dataframe tbody tr th:only-of-type {\n",
       "        vertical-align: middle;\n",
       "    }\n",
       "\n",
       "    .dataframe tbody tr th {\n",
       "        vertical-align: top;\n",
       "    }\n",
       "\n",
       "    .dataframe thead th {\n",
       "        text-align: right;\n",
       "    }\n",
       "</style>\n",
       "<table border=\"1\" class=\"dataframe\">\n",
       "  <thead>\n",
       "    <tr style=\"text-align: right;\">\n",
       "      <th></th>\n",
       "      <th>id</th>\n",
       "      <th>f0</th>\n",
       "      <th>f1</th>\n",
       "      <th>f2</th>\n",
       "      <th>product</th>\n",
       "    </tr>\n",
       "  </thead>\n",
       "  <tbody>\n",
       "    <tr>\n",
       "      <th>11449</th>\n",
       "      <td>VF7Jo</td>\n",
       "      <td>2.122656</td>\n",
       "      <td>-0.858275</td>\n",
       "      <td>5.746001</td>\n",
       "      <td>181.716817</td>\n",
       "    </tr>\n",
       "    <tr>\n",
       "      <th>28039</th>\n",
       "      <td>xCHr8</td>\n",
       "      <td>1.633027</td>\n",
       "      <td>0.368135</td>\n",
       "      <td>-2.378367</td>\n",
       "      <td>6.120525</td>\n",
       "    </tr>\n",
       "    <tr>\n",
       "      <th>43233</th>\n",
       "      <td>xCHr8</td>\n",
       "      <td>-0.847066</td>\n",
       "      <td>2.101796</td>\n",
       "      <td>5.597130</td>\n",
       "      <td>184.388641</td>\n",
       "    </tr>\n",
       "    <tr>\n",
       "      <th>44378</th>\n",
       "      <td>Vcm5J</td>\n",
       "      <td>-1.229484</td>\n",
       "      <td>-2.439204</td>\n",
       "      <td>1.222909</td>\n",
       "      <td>137.968290</td>\n",
       "    </tr>\n",
       "    <tr>\n",
       "      <th>45404</th>\n",
       "      <td>KUPhW</td>\n",
       "      <td>0.231846</td>\n",
       "      <td>-1.698941</td>\n",
       "      <td>4.990775</td>\n",
       "      <td>11.716299</td>\n",
       "    </tr>\n",
       "    <tr>\n",
       "      <th>49564</th>\n",
       "      <td>VF7Jo</td>\n",
       "      <td>-0.883115</td>\n",
       "      <td>0.560537</td>\n",
       "      <td>0.723601</td>\n",
       "      <td>136.233420</td>\n",
       "    </tr>\n",
       "    <tr>\n",
       "      <th>55967</th>\n",
       "      <td>KUPhW</td>\n",
       "      <td>1.211150</td>\n",
       "      <td>3.176408</td>\n",
       "      <td>5.543540</td>\n",
       "      <td>132.831802</td>\n",
       "    </tr>\n",
       "    <tr>\n",
       "      <th>95090</th>\n",
       "      <td>Vcm5J</td>\n",
       "      <td>2.587702</td>\n",
       "      <td>1.986875</td>\n",
       "      <td>2.482245</td>\n",
       "      <td>92.327572</td>\n",
       "    </tr>\n",
       "  </tbody>\n",
       "</table>\n",
       "</div>"
      ],
      "text/plain": [
       "          id        f0        f1        f2     product\n",
       "11449  VF7Jo  2.122656 -0.858275  5.746001  181.716817\n",
       "28039  xCHr8  1.633027  0.368135 -2.378367    6.120525\n",
       "43233  xCHr8 -0.847066  2.101796  5.597130  184.388641\n",
       "44378  Vcm5J -1.229484 -2.439204  1.222909  137.968290\n",
       "45404  KUPhW  0.231846 -1.698941  4.990775   11.716299\n",
       "49564  VF7Jo -0.883115  0.560537  0.723601  136.233420\n",
       "55967  KUPhW  1.211150  3.176408  5.543540  132.831802\n",
       "95090  Vcm5J  2.587702  1.986875  2.482245   92.327572"
      ]
     },
     "metadata": {},
     "output_type": "display_data"
    },
    {
     "data": {
      "text/html": [
       "<div>\n",
       "<style scoped>\n",
       "    .dataframe tbody tr th:only-of-type {\n",
       "        vertical-align: middle;\n",
       "    }\n",
       "\n",
       "    .dataframe tbody tr th {\n",
       "        vertical-align: top;\n",
       "    }\n",
       "\n",
       "    .dataframe thead th {\n",
       "        text-align: right;\n",
       "    }\n",
       "</style>\n",
       "<table border=\"1\" class=\"dataframe\">\n",
       "  <thead>\n",
       "    <tr style=\"text-align: right;\">\n",
       "      <th></th>\n",
       "      <th>f0</th>\n",
       "      <th>f1</th>\n",
       "      <th>f2</th>\n",
       "      <th>product</th>\n",
       "    </tr>\n",
       "  </thead>\n",
       "  <tbody>\n",
       "    <tr>\n",
       "      <th>0</th>\n",
       "      <td>0.705745</td>\n",
       "      <td>-0.497823</td>\n",
       "      <td>1.221170</td>\n",
       "      <td>105.280062</td>\n",
       "    </tr>\n",
       "    <tr>\n",
       "      <th>1</th>\n",
       "      <td>1.334711</td>\n",
       "      <td>-0.340164</td>\n",
       "      <td>4.365080</td>\n",
       "      <td>73.037750</td>\n",
       "    </tr>\n",
       "    <tr>\n",
       "      <th>2</th>\n",
       "      <td>1.022732</td>\n",
       "      <td>0.151990</td>\n",
       "      <td>1.419926</td>\n",
       "      <td>85.265647</td>\n",
       "    </tr>\n",
       "    <tr>\n",
       "      <th>3</th>\n",
       "      <td>-0.032172</td>\n",
       "      <td>0.139033</td>\n",
       "      <td>2.978566</td>\n",
       "      <td>168.620776</td>\n",
       "    </tr>\n",
       "    <tr>\n",
       "      <th>4</th>\n",
       "      <td>1.988431</td>\n",
       "      <td>0.155413</td>\n",
       "      <td>4.751769</td>\n",
       "      <td>154.036647</td>\n",
       "    </tr>\n",
       "    <tr>\n",
       "      <th>...</th>\n",
       "      <td>...</td>\n",
       "      <td>...</td>\n",
       "      <td>...</td>\n",
       "      <td>...</td>\n",
       "    </tr>\n",
       "    <tr>\n",
       "      <th>99995</th>\n",
       "      <td>0.971957</td>\n",
       "      <td>0.370953</td>\n",
       "      <td>6.075346</td>\n",
       "      <td>110.744026</td>\n",
       "    </tr>\n",
       "    <tr>\n",
       "      <th>99996</th>\n",
       "      <td>1.392429</td>\n",
       "      <td>-0.382606</td>\n",
       "      <td>1.273912</td>\n",
       "      <td>122.346843</td>\n",
       "    </tr>\n",
       "    <tr>\n",
       "      <th>99997</th>\n",
       "      <td>1.029585</td>\n",
       "      <td>0.018787</td>\n",
       "      <td>-1.348308</td>\n",
       "      <td>64.375443</td>\n",
       "    </tr>\n",
       "    <tr>\n",
       "      <th>99998</th>\n",
       "      <td>0.998163</td>\n",
       "      <td>-0.528582</td>\n",
       "      <td>1.583869</td>\n",
       "      <td>74.040764</td>\n",
       "    </tr>\n",
       "    <tr>\n",
       "      <th>99999</th>\n",
       "      <td>1.764754</td>\n",
       "      <td>-0.266417</td>\n",
       "      <td>5.722849</td>\n",
       "      <td>149.633246</td>\n",
       "    </tr>\n",
       "  </tbody>\n",
       "</table>\n",
       "<p>100000 rows × 4 columns</p>\n",
       "</div>"
      ],
      "text/plain": [
       "             f0        f1        f2     product\n",
       "0      0.705745 -0.497823  1.221170  105.280062\n",
       "1      1.334711 -0.340164  4.365080   73.037750\n",
       "2      1.022732  0.151990  1.419926   85.265647\n",
       "3     -0.032172  0.139033  2.978566  168.620776\n",
       "4      1.988431  0.155413  4.751769  154.036647\n",
       "...         ...       ...       ...         ...\n",
       "99995  0.971957  0.370953  6.075346  110.744026\n",
       "99996  1.392429 -0.382606  1.273912  122.346843\n",
       "99997  1.029585  0.018787 -1.348308   64.375443\n",
       "99998  0.998163 -0.528582  1.583869   74.040764\n",
       "99999  1.764754 -0.266417  5.722849  149.633246\n",
       "\n",
       "[100000 rows x 4 columns]"
      ]
     },
     "metadata": {},
     "output_type": "display_data"
    }
   ],
   "source": [
    "# se revisan que duplicados hay en el df_2\n",
    "duplicados(df_2, \"id\")\n",
    "\n",
    "# se elimina caracteristica \"id\" de df_2\n",
    "df_2 = del_car(df_2,\"id\")"
   ]
  },
  {
   "cell_type": "markdown",
   "metadata": {},
   "source": [
    "Se comprobo que efectivamente hay pozos con id duplicados, pero ya que los datos de las caracteristicas no son los mismos se mantendran estos datos. Tambien se procedio a eliminar para los 3 conjuntos de datos la caracteristica \"id\" ya que no aporta informacion al modelo ."
   ]
  },
  {
   "cell_type": "markdown",
   "metadata": {},
   "source": [
    "Por otra parte estos son los productos promedios, min y max de cada region.\n",
    "\n",
    "- __Region 0__ promedio de producto = 92.5    min= 0     max= 185\n",
    "- __Region 1__ promedio de producto = 68.8    min= 0     max= 137\n",
    "- __Region 2__ promedio de producto = 95      min= 0     max= 190\n",
    "\n",
    "Lo que pudiera dar un indicio antes del entrenamiento del modelo de que la Region 2 pueda ser mas rentable con su media de volumen de producto de 95 mil barriles por pozo"
   ]
  },
  {
   "cell_type": "markdown",
   "metadata": {},
   "source": [
    "<div class=\"alert alert-block alert-warning\">\n",
    "<b>Comentario del revisor</b> <a class=\"tocSkip\"></a>\n",
    "\n",
    "Los datos se exploraron de forma similar, se podría aprovechar esto para realizar una función que tenga como input los datos de cada región.\n",
    "</div>"
   ]
  },
  {
   "cell_type": "markdown",
   "metadata": {},
   "source": [
    "<div class=\"alert alert-block alert-info\">\n",
    "<b>Se agrego funcion para revisar duplicados y eliminar caracteristica de df.</b> <a class=\"tocSkip\"></a>\n",
    "</div>"
   ]
  },
  {
   "cell_type": "markdown",
   "metadata": {},
   "source": [
    "### Distribucion de datos por region\n",
    "Se revisa por medio de histogramas la distribucion de los datos de los pozos."
   ]
  },
  {
   "cell_type": "code",
   "execution_count": 10,
   "metadata": {},
   "outputs": [
    {
     "data": {
      "text/plain": [
       "Text(0.5, 1.0, 'Volumen de Petroleo por pozo Region 0')"
      ]
     },
     "execution_count": 10,
     "metadata": {},
     "output_type": "execute_result"
    },
    {
     "data": {
      "image/png": "[encoded data removed]",
      "text/plain": [
       "<Figure size 640x480 with 1 Axes>"
      ]
     },
     "metadata": {},
     "output_type": "display_data"
    }
   ],
   "source": [
    "df_0.hist(column='product', bins=400)\n",
    "plt.xlabel(\"Vol en miles de barriles\")\n",
    "plt.ylabel(\"Frequencia\")\n",
    "plt.title(\"Volumen de Petroleo por pozo Region 0\")"
   ]
  },
  {
   "cell_type": "markdown",
   "metadata": {},
   "source": [
    "<div class=\"alert alert-block alert-success\">\n",
    "<b>Comentario del revisor</b> <a class=\"tocSkip\"></a>\n",
    "\n",
    "Bien, la gráfica es correcta. Tiene el título, los ejes tienen nombres y las líneas en los ejes para facilitar su comprensión.\n",
    "</div>"
   ]
  },
  {
   "cell_type": "code",
   "execution_count": 11,
   "metadata": {},
   "outputs": [
    {
     "data": {
      "text/plain": [
       "Text(0.5, 1.0, 'Distribucion de caracteristicas Region 0')"
      ]
     },
     "execution_count": 11,
     "metadata": {},
     "output_type": "execute_result"
    },
    {
     "data": {
      "image/png": "[encoded data removed]",
      "text/plain": [
       "<Figure size 640x480 with 1 Axes>"
      ]
     },
     "metadata": {},
     "output_type": "display_data"
    }
   ],
   "source": [
    "df_0[\"f0\"].hist(alpha=0.4)\n",
    "df_0[\"f1\"].hist(alpha=0.5)\n",
    "df_0[\"f2\"].hist(alpha=0.2)\n",
    "plt.xlabel(\"Rango de las caracteristicas\")\n",
    "plt.ylabel(\"Frequencia\")\n",
    "plt.title(\"Distribucion de caracteristicas Region 0\")"
   ]
  },
  {
   "cell_type": "code",
   "execution_count": 12,
   "metadata": {},
   "outputs": [
    {
     "data": {
      "text/plain": [
       "Text(0.5, 1.0, 'Volumen de Petroleo por pozo Region 1')"
      ]
     },
     "execution_count": 12,
     "metadata": {},
     "output_type": "execute_result"
    },
    {
     "data": {
      "image/png": "[encoded data removed]",
      "text/plain": [
       "<Figure size 640x480 with 1 Axes>"
      ]
     },
     "metadata": {},
     "output_type": "display_data"
    }
   ],
   "source": [
    "df_1.hist(column='product', bins=100)\n",
    "plt.xlabel(\"Vol en miles de barriles\")\n",
    "plt.ylabel(\"Frequencia\")\n",
    "plt.title(\"Volumen de Petroleo por pozo Region 1\")"
   ]
  },
  {
   "cell_type": "code",
   "execution_count": 13,
   "metadata": {},
   "outputs": [
    {
     "data": {
      "text/plain": [
       "Text(0.5, 1.0, 'Distribucion de caracteristicas Region 1')"
      ]
     },
     "execution_count": 13,
     "metadata": {},
     "output_type": "execute_result"
    },
    {
     "data": {
      "image/png": "[encoded data removed]",
      "text/plain": [
       "<Figure size 640x480 with 1 Axes>"
      ]
     },
     "metadata": {},
     "output_type": "display_data"
    }
   ],
   "source": [
    "df_1[\"f0\"].hist(alpha=0.4)\n",
    "df_1[\"f1\"].hist(alpha=0.5)\n",
    "df_1[\"f2\"].hist(alpha=0.2)\n",
    "plt.xlabel(\"Rango de las caracteristicas\")\n",
    "plt.ylabel(\"Frequencia\")\n",
    "plt.title(\"Distribucion de caracteristicas Region 1\")"
   ]
  },
  {
   "cell_type": "code",
   "execution_count": 14,
   "metadata": {},
   "outputs": [
    {
     "data": {
      "text/plain": [
       "Text(0.5, 1.0, 'Volumen de Petroleo por pozo Region 2')"
      ]
     },
     "execution_count": 14,
     "metadata": {},
     "output_type": "execute_result"
    },
    {
     "data": {
      "image/png": "[encoded data removed]",
      "text/plain": [
       "<Figure size 640x480 with 1 Axes>"
      ]
     },
     "metadata": {},
     "output_type": "display_data"
    }
   ],
   "source": [
    "df_2.hist(column='product', bins=400)\n",
    "plt.xlabel(\"Vol en miles de barriles\")\n",
    "plt.ylabel(\"Frequencia\")\n",
    "plt.title(\"Volumen de Petroleo por pozo Region 2\")"
   ]
  },
  {
   "cell_type": "code",
   "execution_count": 15,
   "metadata": {},
   "outputs": [
    {
     "data": {
      "text/plain": [
       "Text(0.5, 1.0, 'Distribucion de caracteristicas Region 2')"
      ]
     },
     "execution_count": 15,
     "metadata": {},
     "output_type": "execute_result"
    },
    {
     "data": {
      "image/png": "[encoded data removed]",
      "text/plain": [
       "<Figure size 640x480 with 1 Axes>"
      ]
     },
     "metadata": {},
     "output_type": "display_data"
    }
   ],
   "source": [
    "df_2[\"f0\"].hist(alpha=0.4)\n",
    "df_2[\"f1\"].hist(alpha=0.5)\n",
    "df_2[\"f2\"].hist(alpha=0.2)\n",
    "plt.xlabel(\"Rango de las caracteristicas\")\n",
    "plt.ylabel(\"Frequencia\")\n",
    "plt.title(\"Distribucion de caracteristicas Region 2\")"
   ]
  },
  {
   "cell_type": "markdown",
   "metadata": {},
   "source": [
    "<div class=\"alert alert-block alert-success\">\n",
    "<b>Comentario del revisor</b> <a class=\"tocSkip\"></a>\n",
    "\n",
    "Muy bien, las gráficas son correctas y ayudan a visualizar la distribución de las características en cada conjunto de datos.\n",
    "</div>"
   ]
  },
  {
   "cell_type": "markdown",
   "metadata": {},
   "source": [
    "Se ve que los datos de los pozos varia mucho tanto en Volumen como en su frequencia, resaltando la Region 1 que parece contar con menos variacion de datos, y sus lecturas parecen ser mas puntuales, lo que hace que sus frequencias en la lectura de datos sean puntuales."
   ]
  },
  {
   "cell_type": "markdown",
   "metadata": {},
   "source": [
    "Por otro lado tambien se aprecia que las escalas de las caracteristicas en cada región varia mucho, por lo que se procedera a estandarizarlas por medio de un \"escalado de caracteristicas\"\n"
   ]
  },
  {
   "cell_type": "markdown",
   "metadata": {},
   "source": [
    "## Entrenamiento y prueba de modelo por region"
   ]
  },
  {
   "cell_type": "markdown",
   "metadata": {},
   "source": [
    "### Region 0"
   ]
  },
  {
   "cell_type": "markdown",
   "metadata": {},
   "source": [
    "#### Division de datos\n",
    "Se divide el conjunto de datos en un conjunto de entrenamiento y validacion con una proporcion de 75:25"
   ]
  },
  {
   "cell_type": "code",
   "execution_count": 16,
   "metadata": {},
   "outputs": [],
   "source": [
    "target = df_0['product']\n",
    "features = df_0.drop(['product'], axis=1)\n",
    "features_train, features_valid, target_train, target_valid = train_test_split(\n",
    "    features, target, test_size=0.25, random_state=12345\n",
    ")"
   ]
  },
  {
   "cell_type": "markdown",
   "metadata": {},
   "source": [
    "#### Escalado de datos"
   ]
  },
  {
   "cell_type": "code",
   "execution_count": 17,
   "metadata": {},
   "outputs": [
    {
     "name": "stdout",
     "output_type": "stream",
     "text": [
      "(75000, 3)\n",
      "             f0        f1        f2\n",
      "27212 -0.544828  1.390264 -0.094959\n",
      "7866   1.455912 -0.480422  1.209567\n",
      "62041  0.260460  0.825069 -0.204865\n",
      "70185 -1.837105  0.010321 -0.147634\n",
      "82230 -1.299243  0.987558  1.273181\n"
     ]
    },
    {
     "name": "stderr",
     "output_type": "stream",
     "text": [
      "/tmp/ipykernel_147/868607523.py:8: SettingWithCopyWarning: \n",
      "A value is trying to be set on a copy of a slice from a DataFrame.\n",
      "Try using .loc[row_indexer,col_indexer] = value instead\n",
      "\n",
      "See the caveats in the documentation: https://pandas.pydata.org/pandas-docs/stable/user_guide/indexing.html#returning-a-view-versus-a-copy\n",
      "  features_train[numeric] = scaler.transform(features_train[numeric])\n",
      "/opt/conda/envs/python3/lib/python3.9/site-packages/pandas/core/indexing.py:1637: SettingWithCopyWarning: \n",
      "A value is trying to be set on a copy of a slice from a DataFrame\n",
      "\n",
      "See the caveats in the documentation: https://pandas.pydata.org/pandas-docs/stable/user_guide/indexing.html#returning-a-view-versus-a-copy\n",
      "  self._setitem_single_block(indexer, value, name)\n",
      "/opt/conda/envs/python3/lib/python3.9/site-packages/pandas/core/indexing.py:692: SettingWithCopyWarning: \n",
      "A value is trying to be set on a copy of a slice from a DataFrame\n",
      "\n",
      "See the caveats in the documentation: https://pandas.pydata.org/pandas-docs/stable/user_guide/indexing.html#returning-a-view-versus-a-copy\n",
      "  iloc._setitem_with_indexer(indexer, value, self.name)\n",
      "/tmp/ipykernel_147/868607523.py:9: SettingWithCopyWarning: \n",
      "A value is trying to be set on a copy of a slice from a DataFrame.\n",
      "Try using .loc[row_indexer,col_indexer] = value instead\n",
      "\n",
      "See the caveats in the documentation: https://pandas.pydata.org/pandas-docs/stable/user_guide/indexing.html#returning-a-view-versus-a-copy\n",
      "  features_valid[numeric] = scaler.transform(features_valid[numeric])\n",
      "/opt/conda/envs/python3/lib/python3.9/site-packages/pandas/core/indexing.py:1637: SettingWithCopyWarning: \n",
      "A value is trying to be set on a copy of a slice from a DataFrame\n",
      "\n",
      "See the caveats in the documentation: https://pandas.pydata.org/pandas-docs/stable/user_guide/indexing.html#returning-a-view-versus-a-copy\n",
      "  self._setitem_single_block(indexer, value, name)\n",
      "/opt/conda/envs/python3/lib/python3.9/site-packages/pandas/core/indexing.py:692: SettingWithCopyWarning: \n",
      "A value is trying to be set on a copy of a slice from a DataFrame\n",
      "\n",
      "See the caveats in the documentation: https://pandas.pydata.org/pandas-docs/stable/user_guide/indexing.html#returning-a-view-versus-a-copy\n",
      "  iloc._setitem_with_indexer(indexer, value, self.name)\n"
     ]
    }
   ],
   "source": [
    "# Se crea una lista con todas las caracteristicas numericas\n",
    "numeric = [\"f0\", \"f1\" , \"f2\"]\n",
    "\n",
    "# se estandarizan los datos para facilitar que los algoritmos entrene\n",
    "scaler = StandardScaler()\n",
    "scaler.fit(features_train[numeric])\n",
    "\n",
    "features_train[numeric] = scaler.transform(features_train[numeric])\n",
    "features_valid[numeric] = scaler.transform(features_valid[numeric])\n",
    "\n",
    "print(features_train.shape)\n",
    "print(features_train.head())"
   ]
  },
  {
   "cell_type": "markdown",
   "metadata": {},
   "source": [
    "<div class=\"alert alert-block alert-success\">\n",
    "<b>Comentario del revisor</b> <a class=\"tocSkip\"></a>\n",
    "\n",
    "Muy bien escalaste correctamente los datos, esto ayuda al modelo de regresión lineal pues es sensible a la escala de los datos.\n",
    "</div>"
   ]
  },
  {
   "cell_type": "markdown",
   "metadata": {},
   "source": [
    "#### Entrenamiento del modelo\n",
    "Se procede a entrenar el modelo y posteriormente a probar predicciones con el conjunto de validacion."
   ]
  },
  {
   "cell_type": "code",
   "execution_count": 18,
   "metadata": {},
   "outputs": [],
   "source": [
    "# cargo modelo\n",
    "model = LinearRegression()\n",
    "# entreno modelo\n",
    "model.fit(features_train, target_train)\n",
    "#se prueba el con el conjunto de validacion\n",
    "predicted_valid = model.predict(features_valid)"
   ]
  },
  {
   "cell_type": "markdown",
   "metadata": {},
   "source": [
    "#### Volumen medio de reserva y RMSE\n",
    "Se muestra el volumen medio de reserva que el modelo ha predicho, ademas del RMSE (raiz del error cuadratico medio) del modelo y su valor promedio"
   ]
  },
  {
   "cell_type": "code",
   "execution_count": 19,
   "metadata": {},
   "outputs": [
    {
     "name": "stdout",
     "output_type": "stream",
     "text": [
      "Mean 92.59256778438035\n",
      "MSE = 1412.2129364399243\n",
      "RMSE = 37.5794217150813\n"
     ]
    }
   ],
   "source": [
    "# Se calcula el MSE/RMSE y la media\n",
    "mse = mean_squared_error(target_valid, predicted_valid)\n",
    "media = predicted_valid.mean()\n",
    "\n",
    "print('Mean', media)\n",
    "print('MSE =', mse)\n",
    "print('RMSE =', mse ** 0.5)"
   ]
  },
  {
   "cell_type": "markdown",
   "metadata": {},
   "source": [
    "#### Conclusiones de resultados\n",
    "\n",
    "- Despues de haber entrenado el modelo para la Region 0 , hemos obtenido un valor de 37 para la Raiz del error cuadratico medio, asi como una media de miles de barriles de 92.5, lo cual concuerda con la media real para dicha real. Por lo que es un buen indicio de que el modelo se ha entrenado correctamente."
   ]
  },
  {
   "cell_type": "markdown",
   "metadata": {},
   "source": [
    "### Funciones 4.1.1 a 4.1.4\n",
    "Se han pasado a funciones los pasos de 4.1.1 al 4.1.4 para facilitar el entrenamiento de los modelos para la Region 1 y 2"
   ]
  },
  {
   "cell_type": "code",
   "execution_count": 20,
   "metadata": {},
   "outputs": [],
   "source": [
    "# funcion division de datos\n",
    "def df_division(df, observacion, t_s):\n",
    "    target = df[observacion]\n",
    "    features = df.drop([observacion], axis=1)\n",
    "    features_train, features_valid, target_train, target_valid = train_test_split(\n",
    "        features, target, test_size=t_s, random_state=12345)\n",
    "    return features_train, features_valid, target_train, target_valid\n",
    "\n",
    "\n",
    "# funcion escalado de datos\n",
    "def escalado(features_train, features_valid):\n",
    "# Se crea una lista con todas las caracteristicas numericas\n",
    "    numeric = [\"f0\", \"f1\" , \"f2\"]\n",
    "# se estandarizan los datos para facilitar que los algoritmos entrene\n",
    "    scaler = StandardScaler()\n",
    "    scaler.fit(features_train[numeric])\n",
    "\n",
    "    features_train[numeric] = scaler.transform(features_train[numeric])\n",
    "    features_valid[numeric] = scaler.transform(features_valid[numeric])\n",
    "    \n",
    "    return features_train[numeric], features_valid[numeric]\n",
    "\n",
    "\n",
    "\n",
    "# funcion entrenamiento de modelo\n",
    "def model_train(features_train ,features_valid, target_train):\n",
    "# cargo modelo\n",
    "    model = LinearRegression()\n",
    "# entreno modelo\n",
    "    model.fit(features_train, target_train)\n",
    "#se prueba el con el conjunto de validacion\n",
    "    predicted_valid = model.predict(features_valid)\n",
    "    \n",
    "    return predicted_valid\n",
    "\n",
    "# funcion calcula el MSE/RMSE y la media\n",
    "def mean_mse(target_valid, predicted_valid):\n",
    "    mse = mean_squared_error(target_valid, predicted_valid)\n",
    "    media = predicted_valid.mean()\n",
    "    \n",
    "    return mse, media\n",
    "\n"
   ]
  },
  {
   "cell_type": "markdown",
   "metadata": {},
   "source": [
    "<div class=\"alert alert-block alert-success\">\n",
    "<b>Comentario del revisor</b> <a class=\"tocSkip\"></a>\n",
    "\n",
    "Buen trabajo. Realizaste funciones para calcular las predicciones y las métricas en cada una de las regiones. Hubiera sido conveniente definir estas funciones antes de realizar los cálculos para la región 0 y al igual que para la región 1 y 2 realizar los cálculos con las mismas funciones.\n",
    "</div>"
   ]
  },
  {
   "cell_type": "markdown",
   "metadata": {},
   "source": [
    "### Procesamiento de datos Region 1\n",
    "Se llaman las funciones para la region 1"
   ]
  },
  {
   "cell_type": "code",
   "execution_count": 21,
   "metadata": {},
   "outputs": [
    {
     "name": "stdout",
     "output_type": "stream",
     "text": [
      "Comprobacion de escalado de caracteristicas\n",
      "(75000, 3)\n",
      "             f0        f1        f2\n",
      "27212 -0.850855  0.624428  0.296943\n",
      "7866   1.971935  1.832275  0.294333\n",
      "62041  1.079305  0.170127 -0.296418\n",
      "70185 -1.512028 -0.887837 -0.880471\n",
      "82230 -1.804775 -0.718311 -0.293255\n",
      "\n",
      "Datos Region 1\n",
      "Mean 68.728546895446\n",
      "MSE = 0.7976263360391157\n",
      "RMSE = 0.893099286775617\n"
     ]
    }
   ],
   "source": [
    "# llamo las funciones para la region 1\n",
    "# division de datos\n",
    "features_train_1, features_valid_1, target_train_1, target_valid_1 = df_division(df_1, \"product\", 0.25)\n",
    "\n",
    "#escalado de caracteristicas\n",
    "features_train_1, features_valid_1 = escalado(features_train_1, features_valid_1)\n",
    "print(\"Comprobacion de escalado de caracteristicas\")\n",
    "print(features_train_1.shape)\n",
    "print(features_train_1.head())\n",
    "\n",
    "# modelo(entrenamiento y comprobacion)\n",
    "predicted_valid_1 = model_train(features_train_1, features_valid_1, target_train_1)\n",
    "\n",
    "# calculo de media MSR \n",
    "mse, media = mean_mse(target_valid_1, predicted_valid_1)\n",
    "print()\n",
    "print(\"Datos Region 1\")\n",
    "print('Mean', media)\n",
    "print('MSE =', mse)\n",
    "print('RMSE =', mse ** 0.5)"
   ]
  },
  {
   "cell_type": "markdown",
   "metadata": {},
   "source": [
    "#### Conclusiones de resultados\n",
    "\n",
    "- Despues de haber entrenado el modelo para la Region 1 , hemos obtenido un valor de 0.89 para la Raiz del error cuadratico medio lo cual indica que practicamente no hay error en el calculo y que la discrepancia entra la respuesta correcta y la prediccion es casi nula, tambien se obtuvo una media de miles de barriles de 68.72, lo cual concuerda con la media real para dicha real. Por lo que es un buen indicio de que el modelo se ha entrenado correctamente."
   ]
  },
  {
   "cell_type": "markdown",
   "metadata": {},
   "source": [
    "### Procesamiento de datos Region 2\n",
    "Se llaman las funciones para la region 2\n"
   ]
  },
  {
   "cell_type": "code",
   "execution_count": 22,
   "metadata": {},
   "outputs": [
    {
     "name": "stdout",
     "output_type": "stream",
     "text": [
      "Comprobacion de escalado de caracteristicas\n",
      "(75000, 3)\n",
      "             f0        f1        f2\n",
      "27212 -0.526160  0.776329 -0.400793\n",
      "7866  -0.889625 -0.404070 -1.222936\n",
      "62041 -1.133984  0.208576  0.296765\n",
      "70185  1.227045  1.570166 -0.764556\n",
      "82230 -0.194289  0.878312  0.840821\n",
      "\n",
      "Datos Region 2\n",
      "Mean 94.96504596800489\n",
      "MSE = 1602.3775813236196\n",
      "RMSE = 40.02970873393434\n"
     ]
    }
   ],
   "source": [
    "# llamo las funciones para la region 2\n",
    "# division de datos\n",
    "features_train_2, features_valid_2, target_train_2, target_valid_2 = df_division(df_2, \"product\", 0.25)\n",
    "\n",
    "#escalado de caracteristicas\n",
    "features_train_2, features_valid_2 = escalado(features_train_2, features_valid_2)\n",
    "print(\"Comprobacion de escalado de caracteristicas\")\n",
    "print(features_train_2.shape)\n",
    "print(features_train_2.head())\n",
    "\n",
    "# modelo(entrenamiento y comprobacion)\n",
    "predicted_valid_2 = model_train(features_train_2, features_valid_2, target_train_2)\n",
    "\n",
    "# calculo de media MSR \n",
    "mse, media = mean_mse(target_valid_2, predicted_valid_2)\n",
    "print()\n",
    "print(\"Datos Region 2\")\n",
    "print('Mean', media)\n",
    "print('MSE =', mse)\n",
    "print('RMSE =', mse ** 0.5)"
   ]
  },
  {
   "cell_type": "markdown",
   "metadata": {},
   "source": [
    "<div class=\"alert alert-block alert-success\">\n",
    "<b>Comentario del revisor</b> <a class=\"tocSkip\"></a>\n",
    "\n",
    "Bien, se procesaron correctamente los datos para la región 1 y 2.\n",
    "</div>"
   ]
  },
  {
   "cell_type": "markdown",
   "metadata": {},
   "source": [
    "#### Conclusiones de resultados\n",
    "\n",
    "- Despues de haber entrenado el modelo para la Region 2 , hemos obtenido un valor de 40 para la Raiz del error cuadratico medio lo cual es un valor bajo y aceptable de erros, tambien se encontro una media de miles de barriles de casi 95, muy cercano a  la media real. Por lo que es un buen indicio de que el modelo se ha entrenado correctamente.\n",
    "- Ya que la Region 2 ha mostrado también un media superior a las otras regiones en cuanto a volumen, puede que esta sea la Region adeacuada. Pero se seguira con los calculos para comprobarlo."
   ]
  },
  {
   "cell_type": "markdown",
   "metadata": {},
   "source": [
    "## Calculo de ganancias por Region"
   ]
  },
  {
   "cell_type": "markdown",
   "metadata": {},
   "source": [
    "### Set up de datos\n",
    "Se almacenan los valores en variables independientes para los calculos"
   ]
  },
  {
   "cell_type": "code",
   "execution_count": 23,
   "metadata": {},
   "outputs": [],
   "source": [
    "budget = 100000000\n",
    "pozos = 200\n",
    "Ingreso_barril = 4.5\n",
    "ingreso_product = 4500\n",
    "riesgo = 2.5"
   ]
  },
  {
   "cell_type": "markdown",
   "metadata": {},
   "source": [
    "### Cantidad media de reserva por region y beneficio real\n",
    "- Se calcula la reserva media y su valor por region (seleccionando los mejores 200 pozos)\n",
    "- Se hace una relacion de los mejores 200 pozos predichos por el modelo y se saca su valor real para calcular su beneficio real\n",
    "- Media minima aceptable por pozo : 500 000 USD = 111.1 unidades"
   ]
  },
  {
   "cell_type": "code",
   "execution_count": 24,
   "metadata": {},
   "outputs": [],
   "source": [
    "# funcion para calculo de los mejore 200 pozos\n",
    "#top_200_0 = predicted_valid.sort_values(ascending = False)[:200]\n",
    "def top_pozos(predicted_valid):\n",
    "    p_v = pd.Series(predicted_valid)\n",
    "    pozos = p_v.sort_values(ascending = False)\n",
    "    top_200 = pozos[:200]\n",
    "    media = top_200.mean()\n",
    "    valor_potencial = media * ingreso_product\n",
    "    \n",
    "    return top_200, media, valor_potencial"
   ]
  },
  {
   "cell_type": "code",
   "execution_count": 25,
   "metadata": {},
   "outputs": [],
   "source": [
    "# funcion para calcular la reserva media y beneficio real del pozo.\n",
    "def beneficio_real(pozos,target_valid):\n",
    "    target_valid = target_valid.reset_index(drop = True)\n",
    "    volumen = target_valid.iloc[pozos.index].sum()\n",
    "    beneficio = (ingreso_product * volumen) - budget\n",
    "    \n",
    "    return beneficio"
   ]
  },
  {
   "cell_type": "markdown",
   "metadata": {},
   "source": [
    "#### Reserva media  y valor Region 0"
   ]
  },
  {
   "cell_type": "code",
   "execution_count": 26,
   "metadata": {},
   "outputs": [
    {
     "name": "stdout",
     "output_type": "stream",
     "text": [
      "La media del producto de los 200 pozos con mas volumen es 155.511654194057  con un valor potencial por pozo de $ 699802.4438732566  y un valor total estimado de $ 139960488.77465132\n",
      "Mientras que el valor total real de los 200 pozos sin el costo de inversion  es de $ 33208260.43139851\n"
     ]
    }
   ],
   "source": [
    "# se buscan los mejores 200 pozos \n",
    "pozos_0, media_0, valor_potencial_0  = top_pozos(predicted_valid)\n",
    "# se busca el volumen real de los pozos seleccionados y se calcula el beneficio\n",
    "beneficio_0 = beneficio_real(pozos_0, target_valid)\n",
    "# se calcula el beneficio predicho por el modelo\n",
    "total = pozos_0.sum()\n",
    "t0 = total *ingreso_product\n",
    "\n",
    "print( \"La media del producto de los 200 pozos con mas volumen es\", media_0 ,\" con un valor potencial por pozo de $\", valor_potencial_0, \" y un valor total estimado de $\",t0)\n",
    "print( \"Mientras que el valor total real de los 200 pozos sin el costo de inversion  es de $\", beneficio_0)"
   ]
  },
  {
   "cell_type": "markdown",
   "metadata": {},
   "source": [
    "#### Reserva media  y valor Region 1"
   ]
  },
  {
   "cell_type": "code",
   "execution_count": 27,
   "metadata": {},
   "outputs": [
    {
     "name": "stdout",
     "output_type": "stream",
     "text": [
      "La media del producto de los 200 pozos con mas volumen es 138.73013391081716  con un valor potencial por pozo de $ 624285.6025986773  y un valor total estimado de $ 124857120.51973544\n",
      "Mientras que el valor total real de los 200 pozos sin el costo de inversion es de $ 24150866.966815114\n"
     ]
    }
   ],
   "source": [
    "# se buscan los mejores 200 pozos \n",
    "pozos_1, media_1, valor_potencial_1  = top_pozos(predicted_valid_1)\n",
    "# se busca el volumen real de los pozos seleccionados y se calcula el beneficio\n",
    "beneficio_1 = beneficio_real(pozos_1, target_valid_1)\n",
    "total1 = pozos_1.sum()\n",
    "t1 = total1 *ingreso_product\n",
    "\n",
    "print( \"La media del producto de los 200 pozos con mas volumen es\", media_1 ,\" con un valor potencial por pozo de $\", valor_potencial_1, \" y un valor total estimado de $\",t1)\n",
    "print( \"Mientras que el valor total real de los 200 pozos sin el costo de inversion es de $\", beneficio_1 )"
   ]
  },
  {
   "cell_type": "markdown",
   "metadata": {},
   "source": [
    "#### Reserva media  y valor Region 2"
   ]
  },
  {
   "cell_type": "code",
   "execution_count": 28,
   "metadata": {},
   "outputs": [
    {
     "name": "stdout",
     "output_type": "stream",
     "text": [
      "La media del producto de los 200 pozos con mas volumen es 148.01949329159174  con un valor potencial por pozo de $ 666087.7198121628  y un valor total estimado de $ 133217543.96243258\n",
      "Mientras que el valor total real de los 200 pozos sin el costo de inversion es de $ 27103499.635998324\n"
     ]
    }
   ],
   "source": [
    "# se buscan los mejores 200 pozos \n",
    "pozos_2, media_2, valor_potencial_2  = top_pozos(predicted_valid_2)\n",
    "# se busca el volumen real de los pozos seleccionados y se calcula el beneficio\n",
    "beneficio_2 = beneficio_real(pozos_2, target_valid_2)\n",
    "total2 = pozos_2.sum()\n",
    "t2 = total2 *ingreso_product\n",
    "\n",
    "print( \"La media del producto de los 200 pozos con mas volumen es\", media_2 ,\" con un valor potencial por pozo de $\", valor_potencial_2, \" y un valor total estimado de $\",t2)\n",
    "print( \"Mientras que el valor total real de los 200 pozos sin el costo de inversion es de $\", beneficio_2 )"
   ]
  },
  {
   "cell_type": "markdown",
   "metadata": {},
   "source": [
    "<div class=\"alert alert-block alert-success\">\n",
    "<b>Comentario del revisor</b> <a class=\"tocSkip\"></a>\n",
    "\n",
    "Muy bien, los cálculos son correctos para cada región.\n",
    "</div>"
   ]
  },
  {
   "cell_type": "markdown",
   "metadata": {},
   "source": [
    "### Conclusion\n",
    "- Los 200 mejores pozos predichos por el modelo de las 3 regiones, cuentan con una media superior a 111 mil barriles o 500K USD\n",
    "- La region que tuvo un valor mas cercano al real fue la Region 0 con un error casi cero, mientras que las otras 2 regiones tuvieron una variacion de su valor real y el predicho de 6 MDD\n",
    "- La region con la media mas alta de las 3 regiones fue la region 0 con una media de 155 mil barriles\n",
    "- La region con el beneficio total real mas alto es la Region 0 con $133.2 MDD\n",
    "- La Region que tuvo el valor mas alto real y potencial predicho por el modelo fue la Region 0 , por lo que este es el lugar mas propicio para construir los pozos."
   ]
  },
  {
   "cell_type": "markdown",
   "metadata": {},
   "source": [
    "### Calculo de riesgos-beneficio por region\n",
    "1. Metodo bootstraping para distribucion debeneficio ( muestra 1000 pozos)\n",
    "2. Beneficio promedio con intervalo de confianza de 95% y reisgo de perdidas. ( calcularla como probabilidad y expresarla en %)\n",
    "Encuentra el beneficio promedio, el intervalo de confianza del 95% y el riesgo de pérdidas. La pérdida es una ganancia negativa, calcúlala como una probabilidad y luego exprésala como un porcentaje."
   ]
  },
  {
   "cell_type": "code",
   "execution_count": 29,
   "metadata": {},
   "outputs": [],
   "source": [
    "# Bootstrapping con 1000 pozos\n",
    "# prediccion completa usar\n",
    "def bs_1k(predicted_valid, target_valid):\n",
    "    state = np.random.RandomState(12345)\n",
    "    beneficio_lista = []\n",
    "    for i in range(1000):\n",
    "        subsample = predicted_valid.sample(n = 500, replace=True, random_state=state)\n",
    "        top_p200 = subsample.sort_values(ascending = False)[:200]\n",
    "        #volumen_p200 = top_p200.sum()\n",
    "        #beneficio = ingreso_product * volumen_p200 \n",
    "        beneficio = beneficio_real(top_p200, target_valid)\n",
    "        \n",
    "        \n",
    "        beneficio_lista.append(beneficio)\n",
    "        \n",
    "    beneficio_lista = pd.Series(beneficio_lista)\n",
    "     \n",
    "\n",
    "    lower = beneficio_lista.quantile(0.05)\n",
    "    upper = beneficio_lista.quantile(0.95) \n",
    "\n",
    "    return lower, upper, beneficio_lista"
   ]
  },
  {
   "cell_type": "markdown",
   "metadata": {},
   "source": [
    "<div class=\"alert alert-block alert-danger\">\n",
    "<b>Comentario del revisor</b> <a class=\"tocSkip\"></a>\n",
    "\n",
    "Bien, iteraste 1000 veces para obtener diferentes submuestras de la original, solo hay un par de detalles que corregir. En los requisitos del proceso de bootstrap se menciona que la submuestra debe ser de 500 pozos aleatorios, de esos 500 pozos se deben seleccionar los 200 con mejor predicción (de la misma manera que se realizó en la sección anterior). Es con esos 200 pozos por iteración que se calcula la ganancia, despúes de iterar 1000 veces se obtienen 1000 valores de ganancia y con estos se obtiene el intervalo de confianza.\n",
    "    \n",
    "El código se podría ver algo así:\n",
    "    \n",
    "```\n",
    "def bs_1k(pozos):\n",
    "    state = np.random.RandomState(12345)\n",
    "    beneficio_lista = []\n",
    "    for i in range(1000):\n",
    "        subsample = pozos.sample(n=500, replace=True, random_state=state)\n",
    "   \n",
    "        # se buscan los mejores 200 pozos segun la predicción de los 500 elegidos aleatoriamente en esta iteración\n",
    "\n",
    "        # se busca el volumen real de los pozos seleccionados y se calcula el beneficio\n",
    "\n",
    "        beneficio_lista.append(beneficio)\n",
    "    \n",
    "    #Calculamos los extremos del intervalo de confianza\n",
    "    \n",
    "    lower = beneficio_lista.quantile(0.05)\n",
    "    upper = beneficio_lista.quantile(0.95)    \n",
    "```\n",
    "\n",
    "</div>\n",
    "\n"
   ]
  },
  {
   "cell_type": "markdown",
   "metadata": {},
   "source": [
    "#### Region 0"
   ]
  },
  {
   "cell_type": "code",
   "execution_count": 30,
   "metadata": {},
   "outputs": [
    {
     "name": "stdout",
     "output_type": "stream",
     "text": [
      "El intervalo de confianza dl 95% va de $ -371815.96262545657  a $ 8426881.61128134\n",
      "El beneficio medio por pozo es de $ 3961649.8480237117\n"
     ]
    }
   ],
   "source": [
    "# \n",
    "\n",
    "lower, upper, beneficio = bs_1k(pd.Series(predicted_valid),target_valid)\n",
    "beneficio_prom = (beneficio.mean())\n",
    "\n",
    "#minben = values0.min()\n",
    "\n",
    "#Calculo de riesgo (no huo valor negativo)\n",
    "#ben_neg = []           \n",
    "#for value in values0:\n",
    "#    if value < 0:\n",
    "#        ben_neg.append(value)  # (revenues negativos / 1000)*100\n",
    "\n",
    "print(\"El intervalo de confianza dl 95% va de $\",lower, \" a $\", upper)\n",
    "print(\"El beneficio medio por pozo es de $\",beneficio_prom) \n",
    "\n"
   ]
  },
  {
   "cell_type": "markdown",
   "metadata": {},
   "source": [
    "#### Riesgo "
   ]
  },
  {
   "cell_type": "code",
   "execution_count": 31,
   "metadata": {},
   "outputs": [
    {
     "data": {
      "text/plain": [
       "6.9"
      ]
     },
     "execution_count": 31,
     "metadata": {},
     "output_type": "execute_result"
    }
   ],
   "source": [
    "((beneficio <0).sum()/1000)*100\n"
   ]
  },
  {
   "cell_type": "markdown",
   "metadata": {},
   "source": [
    "Se cuenta con un Riego del 6.9% "
   ]
  },
  {
   "cell_type": "markdown",
   "metadata": {},
   "source": [
    "#### Region 1"
   ]
  },
  {
   "cell_type": "code",
   "execution_count": 32,
   "metadata": {},
   "outputs": [
    {
     "name": "stdout",
     "output_type": "stream",
     "text": [
      "El intervalo de confianza dl 95% va de $ 1094757.2145480216  a $ 7910055.132594588\n",
      "El beneficio medio por pozo es de $ 4560451.057866608\n"
     ]
    }
   ],
   "source": [
    "lower1, upper1, beneficio1 = bs_1k(pd.Series(predicted_valid_1),target_valid_1)\n",
    "beneficio1 = (beneficio1.mean())\n",
    "\n",
    "print(\"El intervalo de confianza dl 95% va de $\",lower1, \" a $\", upper1)\n",
    "print(\"El beneficio medio por pozo es de $\",beneficio1) \n",
    "\n"
   ]
  },
  {
   "cell_type": "markdown",
   "metadata": {},
   "source": [
    "#### Riesgo "
   ]
  },
  {
   "cell_type": "code",
   "execution_count": 33,
   "metadata": {},
   "outputs": [
    {
     "data": {
      "text/plain": [
       "0.0"
      ]
     },
     "execution_count": 33,
     "metadata": {},
     "output_type": "execute_result"
    }
   ],
   "source": [
    "((beneficio1 <0).sum()/1000)*100"
   ]
  },
  {
   "cell_type": "markdown",
   "metadata": {},
   "source": [
    "Se cuenta con un Riesgo nulo"
   ]
  },
  {
   "cell_type": "markdown",
   "metadata": {},
   "source": [
    "#### Region 2"
   ]
  },
  {
   "cell_type": "code",
   "execution_count": 34,
   "metadata": {},
   "outputs": [
    {
     "name": "stdout",
     "output_type": "stream",
     "text": [
      "El intervalo de confianza dl 95% va de $ -585334.4105050236  a $ 8411239.96708138\n",
      "El beneficio medio por pozo es de $ 4044038.665683568\n"
     ]
    }
   ],
   "source": [
    "lower2, upper2, beneficio2 = bs_1k(pd.Series(predicted_valid_2),target_valid_2)\n",
    "beneficio2 = (beneficio2.mean())\n",
    "\n",
    "print(\"El intervalo de confianza dl 95% va de $\",lower2, \" a $\", upper2)\n",
    "print(\"El beneficio medio por pozo es de $\",beneficio2) "
   ]
  },
  {
   "cell_type": "markdown",
   "metadata": {},
   "source": [
    "#### Riesgo "
   ]
  },
  {
   "cell_type": "code",
   "execution_count": 35,
   "metadata": {},
   "outputs": [
    {
     "data": {
      "text/plain": [
       "0.0"
      ]
     },
     "execution_count": 35,
     "metadata": {},
     "output_type": "execute_result"
    }
   ],
   "source": [
    "((beneficio2 <0).sum()/1000)*100"
   ]
  },
  {
   "cell_type": "markdown",
   "metadata": {},
   "source": [
    "Se cuenta con un Riesgo nulo"
   ]
  },
  {
   "cell_type": "markdown",
   "metadata": {},
   "source": [
    "<div class=\"alert alert-block alert-danger\">\n",
    "<b>Comentario del revisor</b> <a class=\"tocSkip\"></a>\n",
    "\n",
    "Bien, la forma en que aplicaste la función es correcta, en cuanto se realicen los cambios necesarios en la función que calcula los intervalos de confianza y las ganancias se mostrarán los resultados correctos.\n",
    "</div>"
   ]
  },
  {
   "cell_type": "markdown",
   "metadata": {},
   "source": [
    "## Ganancia Final Region 0"
   ]
  },
  {
   "cell_type": "code",
   "execution_count": 37,
   "metadata": {},
   "outputs": [
    {
     "name": "stdout",
     "output_type": "stream",
     "text": [
      "Ganancia primer año Region 0 $ 33208260.43139851\n"
     ]
    }
   ],
   "source": [
    "ganancia = beneficio_0 \n",
    "print(\"Ganancia primer año Region 0 $\", ganancia)"
   ]
  },
  {
   "cell_type": "markdown",
   "metadata": {},
   "source": [
    "## Conclusion final\n",
    "- Se entreno un modelo de regresion lineal para buscar la region mas propicia para tener pozos petroleros\n",
    "- Se saco el volumen medio y su error cuadratico. La region 2 fue la que tuvo una mejor media 95 aunque su error tambien fue el mas alto de las tres.\n",
    "- Se seleccionaron los 200 mejores pozos de cada region. Y se saco su beneficio estimado y el real.\n",
    "- Seleccionando los mejores 200 pozos la Region 0 fue la que tuvo la media mas alta con 155 y un valor real de 133 MDD\n",
    "- A comparacion del primer analisis, al momento de escoger los mejores 200 pozos, la Region 0 fue la que mejor rendimiento tuvo acomparacion de la Region 2.\n",
    "- Se calculo el intervalo de confianza para el volumen. Teniendo a la Region 0 con un intervalio mayor de 172 a 180\n",
    "- Se calculo el riesgo buscando beneficios negativos, y ninguna region tuvo valores negativos usando los 200 pozos mas altos.\n",
    "- Si se selecciona la Region 0 para el establecimiento de pozos. Se tendria una ganancia de $33 MDD recuperando la inversion el primer año"
   ]
  },
  {
   "cell_type": "markdown",
   "metadata": {},
   "source": [
    "<div class=\"alert alert-block alert-success\">\n",
    "<b>Comentario del revisor</b> <a class=\"tocSkip\"></a>\n",
    "\n",
    "Buenas conclusiones basadas en lo observado en los datos.\n",
    "</div>"
   ]
  },
  {
   "cell_type": "markdown",
   "metadata": {},
   "source": [
    "<div class=\"alert alert-block alert-warning\">\n",
    "<b>Comentario del revisor</b> <a class=\"tocSkip\"></a>\n",
    "\n",
    "¡Hola!\n",
    "    \n",
    "Te quiero felicitar por tu proyecto, está bastante completo y se nota la dedicación al realizarlo, me gustó bastante que todo lo hiciste definiendo funciones, esto es una buena práctica en Python. Ya solo queda hacer unos cambios en la lógica de la función que realiza el bootstrap, los comentarios necesarios los realicé en bloques de color rojo, en cuanto los cambies podré aprobar tu proyecto.\n",
    "    \n",
    "Saludos, Marcos.\n",
    "</div>"
   ]
  },
  {
   "cell_type": "markdown",
   "metadata": {},
   "source": [
    "<div class=\"alert alert-block alert-success\">\n",
    "<b>Comentario del revisor</b> <a class=\"tocSkip\"></a>\n",
    "\n",
    "Muy bien, el bootstrap se realiza de manera correcta. Gracias por atender a los comentarios. Puedo aprobar tu proyecto.\n",
    "    \n",
    "Saludos, Marcos\n",
    "</div>"
   ]
  },
  {
   "cell_type": "code",
   "execution_count": null,
   "metadata": {},
   "outputs": [],
   "source": []
  }
 ],
 "metadata": {
  "ExecuteTimeLog": [
   {
    "duration": 5581,
    "start_time": "2024-06-06T04:47:01.610Z"
   },
   {
    "duration": 657,
    "start_time": "2024-06-06T04:49:18.196Z"
   },
   {
    "duration": 500,
    "start_time": "2024-06-06T04:49:34.349Z"
   },
   {
    "duration": 28,
    "start_time": "2024-06-06T04:49:48.113Z"
   },
   {
    "duration": 29,
    "start_time": "2024-06-06T04:53:47.108Z"
   },
   {
    "duration": 379,
    "start_time": "2024-06-06T04:53:55.055Z"
   },
   {
    "duration": 81,
    "start_time": "2024-06-06T04:53:57.061Z"
   },
   {
    "duration": 103,
    "start_time": "2024-06-06T04:55:31.728Z"
   },
   {
    "duration": 74,
    "start_time": "2024-06-06T04:55:41.921Z"
   },
   {
    "duration": 17,
    "start_time": "2024-06-06T04:58:56.312Z"
   },
   {
    "duration": 29,
    "start_time": "2024-06-06T04:59:25.625Z"
   },
   {
    "duration": 32,
    "start_time": "2024-06-06T04:59:53.261Z"
   },
   {
    "duration": 37,
    "start_time": "2024-06-06T05:01:09.326Z"
   },
   {
    "duration": 37,
    "start_time": "2024-06-06T05:01:23.904Z"
   },
   {
    "duration": 38,
    "start_time": "2024-06-06T05:02:29.245Z"
   },
   {
    "duration": 29,
    "start_time": "2024-06-06T05:38:08.550Z"
   },
   {
    "duration": 34,
    "start_time": "2024-06-06T05:43:45.772Z"
   },
   {
    "duration": 970,
    "start_time": "2024-06-06T05:44:01.511Z"
   },
   {
    "duration": 1475,
    "start_time": "2024-06-06T05:44:11.934Z"
   },
   {
    "duration": 428,
    "start_time": "2024-06-06T05:44:13.413Z"
   },
   {
    "duration": 94,
    "start_time": "2024-06-06T05:44:13.844Z"
   },
   {
    "duration": 46,
    "start_time": "2024-06-06T05:44:13.943Z"
   },
   {
    "duration": 97,
    "start_time": "2024-06-06T05:44:13.994Z"
   },
   {
    "duration": 49,
    "start_time": "2024-06-06T05:44:14.095Z"
   },
   {
    "duration": 98,
    "start_time": "2024-06-06T05:44:14.149Z"
   },
   {
    "duration": 36,
    "start_time": "2024-06-06T05:44:14.250Z"
   },
   {
    "duration": 18,
    "start_time": "2024-06-06T05:44:14.290Z"
   },
   {
    "duration": 6,
    "start_time": "2024-06-06T05:46:41.390Z"
   },
   {
    "duration": 15,
    "start_time": "2024-06-06T05:51:48.049Z"
   },
   {
    "duration": 7,
    "start_time": "2024-06-06T05:54:44.965Z"
   },
   {
    "duration": 7,
    "start_time": "2024-06-06T05:55:04.699Z"
   },
   {
    "duration": 11,
    "start_time": "2024-06-06T05:55:51.782Z"
   },
   {
    "duration": 5106,
    "start_time": "2024-06-06T18:36:40.199Z"
   },
   {
    "duration": 498,
    "start_time": "2024-06-06T18:36:45.309Z"
   },
   {
    "duration": 83,
    "start_time": "2024-06-06T18:36:45.810Z"
   },
   {
    "duration": 52,
    "start_time": "2024-06-06T18:36:45.896Z"
   },
   {
    "duration": 95,
    "start_time": "2024-06-06T18:36:45.955Z"
   },
   {
    "duration": 55,
    "start_time": "2024-06-06T18:36:46.053Z"
   },
   {
    "duration": 106,
    "start_time": "2024-06-06T18:36:46.111Z"
   },
   {
    "duration": 47,
    "start_time": "2024-06-06T18:36:46.221Z"
   },
   {
    "duration": 21,
    "start_time": "2024-06-06T18:36:46.291Z"
   },
   {
    "duration": 21,
    "start_time": "2024-06-06T18:36:46.316Z"
   },
   {
    "duration": 10,
    "start_time": "2024-06-06T18:36:46.392Z"
   },
   {
    "duration": 9,
    "start_time": "2024-06-06T18:36:46.407Z"
   },
   {
    "duration": 18,
    "start_time": "2024-06-06T21:07:45.199Z"
   },
   {
    "duration": 17,
    "start_time": "2024-06-06T21:07:57.511Z"
   },
   {
    "duration": 27,
    "start_time": "2024-06-06T21:08:30.664Z"
   },
   {
    "duration": 38,
    "start_time": "2024-06-06T21:08:44.675Z"
   },
   {
    "duration": 7,
    "start_time": "2024-06-06T21:18:08.651Z"
   },
   {
    "duration": 6,
    "start_time": "2024-06-06T21:18:34.407Z"
   },
   {
    "duration": 466,
    "start_time": "2024-06-06T21:18:34.418Z"
   },
   {
    "duration": 84,
    "start_time": "2024-06-06T21:18:34.888Z"
   },
   {
    "duration": 68,
    "start_time": "2024-06-06T21:18:34.992Z"
   },
   {
    "duration": 97,
    "start_time": "2024-06-06T21:18:35.064Z"
   },
   {
    "duration": 70,
    "start_time": "2024-06-06T21:18:35.164Z"
   },
   {
    "duration": 29,
    "start_time": "2024-06-06T21:18:35.237Z"
   },
   {
    "duration": 82,
    "start_time": "2024-06-06T21:18:35.269Z"
   },
   {
    "duration": 60,
    "start_time": "2024-06-06T21:18:35.355Z"
   },
   {
    "duration": 7,
    "start_time": "2024-06-06T21:18:35.418Z"
   },
   {
    "duration": 0,
    "start_time": "2024-06-06T21:18:35.428Z"
   },
   {
    "duration": 0,
    "start_time": "2024-06-06T21:18:35.430Z"
   },
   {
    "duration": 18,
    "start_time": "2024-06-06T21:18:46.298Z"
   },
   {
    "duration": 18,
    "start_time": "2024-06-06T21:18:47.521Z"
   },
   {
    "duration": 7,
    "start_time": "2024-06-06T21:18:48.941Z"
   },
   {
    "duration": 6,
    "start_time": "2024-06-06T21:22:54.918Z"
   },
   {
    "duration": 371,
    "start_time": "2024-06-07T02:06:34.283Z"
   },
   {
    "duration": 32,
    "start_time": "2024-06-07T02:07:17.018Z"
   },
   {
    "duration": 5227,
    "start_time": "2024-06-07T02:07:23.598Z"
   },
   {
    "duration": 590,
    "start_time": "2024-06-07T02:07:28.829Z"
   },
   {
    "duration": 79,
    "start_time": "2024-06-07T02:07:29.422Z"
   },
   {
    "duration": 60,
    "start_time": "2024-06-07T02:07:29.505Z"
   },
   {
    "duration": 92,
    "start_time": "2024-06-07T02:07:29.569Z"
   },
   {
    "duration": 34,
    "start_time": "2024-06-07T02:07:29.663Z"
   },
   {
    "duration": 50,
    "start_time": "2024-06-07T02:07:29.700Z"
   },
   {
    "duration": 83,
    "start_time": "2024-06-07T02:07:29.762Z"
   },
   {
    "duration": 52,
    "start_time": "2024-06-07T02:07:29.849Z"
   },
   {
    "duration": 9,
    "start_time": "2024-06-07T02:07:29.904Z"
   },
   {
    "duration": 0,
    "start_time": "2024-06-07T02:07:29.916Z"
   },
   {
    "duration": 0,
    "start_time": "2024-06-07T02:07:29.918Z"
   },
   {
    "duration": 0,
    "start_time": "2024-06-07T02:07:29.920Z"
   },
   {
    "duration": 0,
    "start_time": "2024-06-07T02:07:29.922Z"
   },
   {
    "duration": 0,
    "start_time": "2024-06-07T02:07:29.923Z"
   },
   {
    "duration": 1345,
    "start_time": "2024-06-07T02:09:06.788Z"
   },
   {
    "duration": 1538,
    "start_time": "2024-06-07T02:10:11.233Z"
   },
   {
    "duration": 541,
    "start_time": "2024-06-07T02:10:12.783Z"
   },
   {
    "duration": 88,
    "start_time": "2024-06-07T02:10:13.330Z"
   },
   {
    "duration": 57,
    "start_time": "2024-06-07T02:10:13.426Z"
   },
   {
    "duration": 76,
    "start_time": "2024-06-07T02:10:13.493Z"
   },
   {
    "duration": 40,
    "start_time": "2024-06-07T02:10:13.577Z"
   },
   {
    "duration": 77,
    "start_time": "2024-06-07T02:10:13.625Z"
   },
   {
    "duration": 46,
    "start_time": "2024-06-07T02:10:13.710Z"
   },
   {
    "duration": 8,
    "start_time": "2024-06-07T02:10:13.764Z"
   },
   {
    "duration": 0,
    "start_time": "2024-06-07T02:10:13.780Z"
   },
   {
    "duration": 0,
    "start_time": "2024-06-07T02:10:13.787Z"
   },
   {
    "duration": 0,
    "start_time": "2024-06-07T02:10:13.791Z"
   },
   {
    "duration": 0,
    "start_time": "2024-06-07T02:10:13.793Z"
   },
   {
    "duration": 0,
    "start_time": "2024-06-07T02:10:13.798Z"
   },
   {
    "duration": 1463,
    "start_time": "2024-06-07T02:12:39.466Z"
   },
   {
    "duration": 445,
    "start_time": "2024-06-07T02:12:40.933Z"
   },
   {
    "duration": 95,
    "start_time": "2024-06-07T02:12:41.382Z"
   },
   {
    "duration": 84,
    "start_time": "2024-06-07T02:12:41.483Z"
   },
   {
    "duration": 82,
    "start_time": "2024-06-07T02:12:41.569Z"
   },
   {
    "duration": 1520,
    "start_time": "2024-06-07T02:12:41.653Z"
   },
   {
    "duration": 0,
    "start_time": "2024-06-07T02:12:43.181Z"
   },
   {
    "duration": 0,
    "start_time": "2024-06-07T02:12:43.184Z"
   },
   {
    "duration": 0,
    "start_time": "2024-06-07T02:12:43.186Z"
   },
   {
    "duration": 0,
    "start_time": "2024-06-07T02:12:43.189Z"
   },
   {
    "duration": 0,
    "start_time": "2024-06-07T02:12:43.191Z"
   },
   {
    "duration": 0,
    "start_time": "2024-06-07T02:12:43.194Z"
   },
   {
    "duration": 0,
    "start_time": "2024-06-07T02:12:43.196Z"
   },
   {
    "duration": 0,
    "start_time": "2024-06-07T02:12:43.198Z"
   },
   {
    "duration": 102,
    "start_time": "2024-06-07T02:14:52.318Z"
   },
   {
    "duration": 64,
    "start_time": "2024-06-07T02:15:07.279Z"
   },
   {
    "duration": 73,
    "start_time": "2024-06-07T02:15:38.141Z"
   },
   {
    "duration": 64,
    "start_time": "2024-06-07T02:15:53.082Z"
   },
   {
    "duration": 256,
    "start_time": "2024-06-07T02:20:34.065Z"
   },
   {
    "duration": 380,
    "start_time": "2024-06-07T02:20:56.285Z"
   },
   {
    "duration": 604,
    "start_time": "2024-06-07T02:21:05.231Z"
   },
   {
    "duration": 862,
    "start_time": "2024-06-07T02:21:18.056Z"
   },
   {
    "duration": 379,
    "start_time": "2024-06-07T02:21:36.258Z"
   },
   {
    "duration": 2122,
    "start_time": "2024-06-07T02:22:04.961Z"
   },
   {
    "duration": 393,
    "start_time": "2024-06-07T02:22:51.122Z"
   },
   {
    "duration": 1268,
    "start_time": "2024-06-07T02:23:00.828Z"
   },
   {
    "duration": 1094,
    "start_time": "2024-06-07T02:25:28.893Z"
   },
   {
    "duration": 1088,
    "start_time": "2024-06-07T02:26:00.466Z"
   },
   {
    "duration": 1323,
    "start_time": "2024-06-07T02:26:25.551Z"
   },
   {
    "duration": 1148,
    "start_time": "2024-06-07T02:26:52.101Z"
   },
   {
    "duration": 409,
    "start_time": "2024-06-07T02:27:06.701Z"
   },
   {
    "duration": 2282,
    "start_time": "2024-06-07T02:27:50.421Z"
   },
   {
    "duration": 579,
    "start_time": "2024-06-07T02:27:58.790Z"
   },
   {
    "duration": 389,
    "start_time": "2024-06-07T02:28:07.571Z"
   },
   {
    "duration": 1430,
    "start_time": "2024-06-07T02:29:24.701Z"
   },
   {
    "duration": 1142,
    "start_time": "2024-06-07T02:29:35.510Z"
   },
   {
    "duration": 432,
    "start_time": "2024-06-07T02:32:08.244Z"
   },
   {
    "duration": 413,
    "start_time": "2024-06-07T02:32:16.981Z"
   },
   {
    "duration": 911,
    "start_time": "2024-06-07T02:32:40.719Z"
   },
   {
    "duration": 1029,
    "start_time": "2024-06-07T02:32:52.075Z"
   },
   {
    "duration": 1485,
    "start_time": "2024-06-07T02:32:58.114Z"
   },
   {
    "duration": 443,
    "start_time": "2024-06-07T02:33:12.150Z"
   },
   {
    "duration": 7,
    "start_time": "2024-06-07T02:56:33.497Z"
   },
   {
    "duration": 386,
    "start_time": "2024-06-07T02:56:48.766Z"
   },
   {
    "duration": 193,
    "start_time": "2024-06-07T02:58:01.330Z"
   },
   {
    "duration": 290,
    "start_time": "2024-06-07T02:58:14.096Z"
   },
   {
    "duration": 252,
    "start_time": "2024-06-07T02:58:33.687Z"
   },
   {
    "duration": 247,
    "start_time": "2024-06-07T02:58:58.318Z"
   },
   {
    "duration": 258,
    "start_time": "2024-06-07T02:59:08.944Z"
   },
   {
    "duration": 246,
    "start_time": "2024-06-07T02:59:19.220Z"
   },
   {
    "duration": 249,
    "start_time": "2024-06-07T02:59:25.988Z"
   },
   {
    "duration": 239,
    "start_time": "2024-06-07T02:59:32.667Z"
   },
   {
    "duration": 240,
    "start_time": "2024-06-07T02:59:47.557Z"
   },
   {
    "duration": 304,
    "start_time": "2024-06-07T03:00:52.293Z"
   },
   {
    "duration": 307,
    "start_time": "2024-06-07T03:01:36.848Z"
   },
   {
    "duration": 295,
    "start_time": "2024-06-07T03:02:12.002Z"
   },
   {
    "duration": 1438,
    "start_time": "2024-06-07T03:23:52.132Z"
   },
   {
    "duration": 377,
    "start_time": "2024-06-07T03:23:53.575Z"
   },
   {
    "duration": 93,
    "start_time": "2024-06-07T03:23:53.955Z"
   },
   {
    "duration": 79,
    "start_time": "2024-06-07T03:23:54.054Z"
   },
   {
    "duration": 67,
    "start_time": "2024-06-07T03:23:54.136Z"
   },
   {
    "duration": 63,
    "start_time": "2024-06-07T03:23:54.230Z"
   },
   {
    "duration": 92,
    "start_time": "2024-06-07T03:23:54.296Z"
   },
   {
    "duration": 82,
    "start_time": "2024-06-07T03:23:54.391Z"
   },
   {
    "duration": 1002,
    "start_time": "2024-06-07T03:23:54.477Z"
   },
   {
    "duration": 292,
    "start_time": "2024-06-07T03:23:55.485Z"
   },
   {
    "duration": 421,
    "start_time": "2024-06-07T03:23:55.781Z"
   },
   {
    "duration": 286,
    "start_time": "2024-06-07T03:23:56.205Z"
   },
   {
    "duration": 1031,
    "start_time": "2024-06-07T03:23:56.495Z"
   },
   {
    "duration": 298,
    "start_time": "2024-06-07T03:23:57.532Z"
   },
   {
    "duration": 19,
    "start_time": "2024-06-07T03:23:57.833Z"
   },
   {
    "duration": 19,
    "start_time": "2024-06-07T03:23:57.856Z"
   },
   {
    "duration": 7,
    "start_time": "2024-06-07T03:23:57.877Z"
   },
   {
    "duration": 59,
    "start_time": "2024-06-07T03:23:57.886Z"
   },
   {
    "duration": 5,
    "start_time": "2024-06-07T03:23:57.948Z"
   },
   {
    "duration": 24,
    "start_time": "2024-06-07T03:34:29.304Z"
   },
   {
    "duration": 1436,
    "start_time": "2024-06-07T03:34:44.329Z"
   },
   {
    "duration": 406,
    "start_time": "2024-06-07T03:34:45.768Z"
   },
   {
    "duration": 91,
    "start_time": "2024-06-07T03:34:46.177Z"
   },
   {
    "duration": 83,
    "start_time": "2024-06-07T03:34:46.273Z"
   },
   {
    "duration": 99,
    "start_time": "2024-06-07T03:34:46.359Z"
   },
   {
    "duration": 75,
    "start_time": "2024-06-07T03:34:46.461Z"
   },
   {
    "duration": 93,
    "start_time": "2024-06-07T03:34:46.539Z"
   },
   {
    "duration": 64,
    "start_time": "2024-06-07T03:34:46.638Z"
   },
   {
    "duration": 1041,
    "start_time": "2024-06-07T03:34:46.707Z"
   },
   {
    "duration": 293,
    "start_time": "2024-06-07T03:34:47.755Z"
   },
   {
    "duration": 427,
    "start_time": "2024-06-07T03:34:48.054Z"
   },
   {
    "duration": 287,
    "start_time": "2024-06-07T03:34:48.485Z"
   },
   {
    "duration": 1018,
    "start_time": "2024-06-07T03:34:48.775Z"
   },
   {
    "duration": 284,
    "start_time": "2024-06-07T03:34:49.798Z"
   },
   {
    "duration": 22,
    "start_time": "2024-06-07T03:34:50.085Z"
   },
   {
    "duration": 43,
    "start_time": "2024-06-07T03:34:50.109Z"
   },
   {
    "duration": 21,
    "start_time": "2024-06-07T03:34:50.155Z"
   },
   {
    "duration": 55,
    "start_time": "2024-06-07T03:34:50.179Z"
   },
   {
    "duration": 9,
    "start_time": "2024-06-07T03:34:50.237Z"
   },
   {
    "duration": 6,
    "start_time": "2024-06-07T03:34:50.250Z"
   },
   {
    "duration": 8,
    "start_time": "2024-06-07T03:53:33.407Z"
   },
   {
    "duration": 6,
    "start_time": "2024-06-07T03:53:40.054Z"
   },
   {
    "duration": 466,
    "start_time": "2024-06-07T03:55:59.982Z"
   },
   {
    "duration": 29,
    "start_time": "2024-06-07T03:56:07.346Z"
   },
   {
    "duration": 43,
    "start_time": "2024-06-07T03:56:19.920Z"
   },
   {
    "duration": 6,
    "start_time": "2024-06-07T03:56:31.700Z"
   },
   {
    "duration": 19,
    "start_time": "2024-06-07T03:56:34.361Z"
   },
   {
    "duration": 16,
    "start_time": "2024-06-07T03:57:00.349Z"
   },
   {
    "duration": 9,
    "start_time": "2024-06-07T04:27:52.213Z"
   },
   {
    "duration": 11,
    "start_time": "2024-06-07T04:27:58.094Z"
   },
   {
    "duration": 43,
    "start_time": "2024-06-07T04:28:02.800Z"
   },
   {
    "duration": 9,
    "start_time": "2024-06-07T04:31:55.638Z"
   },
   {
    "duration": 65,
    "start_time": "2024-06-07T04:31:59.394Z"
   },
   {
    "duration": 62,
    "start_time": "2024-06-07T04:32:07.839Z"
   },
   {
    "duration": 10,
    "start_time": "2024-06-07T04:33:34.673Z"
   },
   {
    "duration": 47,
    "start_time": "2024-06-07T04:34:17.923Z"
   },
   {
    "duration": 45,
    "start_time": "2024-06-07T04:35:07.536Z"
   },
   {
    "duration": 51,
    "start_time": "2024-06-07T04:37:43.857Z"
   },
   {
    "duration": 59,
    "start_time": "2024-06-07T04:39:26.022Z"
   },
   {
    "duration": 1395,
    "start_time": "2024-06-07T04:40:40.116Z"
   },
   {
    "duration": 417,
    "start_time": "2024-06-07T04:40:41.514Z"
   },
   {
    "duration": 75,
    "start_time": "2024-06-07T04:40:41.935Z"
   },
   {
    "duration": 73,
    "start_time": "2024-06-07T04:40:42.035Z"
   },
   {
    "duration": 81,
    "start_time": "2024-06-07T04:40:42.110Z"
   },
   {
    "duration": 85,
    "start_time": "2024-06-07T04:40:42.194Z"
   },
   {
    "duration": 92,
    "start_time": "2024-06-07T04:40:42.284Z"
   },
   {
    "duration": 96,
    "start_time": "2024-06-07T04:40:42.379Z"
   },
   {
    "duration": 1217,
    "start_time": "2024-06-07T04:40:42.478Z"
   },
   {
    "duration": 297,
    "start_time": "2024-06-07T04:40:43.701Z"
   },
   {
    "duration": 406,
    "start_time": "2024-06-07T04:40:44.001Z"
   },
   {
    "duration": 307,
    "start_time": "2024-06-07T04:40:44.411Z"
   },
   {
    "duration": 1028,
    "start_time": "2024-06-07T04:40:44.721Z"
   },
   {
    "duration": 296,
    "start_time": "2024-06-07T04:40:45.752Z"
   },
   {
    "duration": 23,
    "start_time": "2024-06-07T04:40:46.051Z"
   },
   {
    "duration": 52,
    "start_time": "2024-06-07T04:40:46.078Z"
   },
   {
    "duration": 21,
    "start_time": "2024-06-07T04:40:46.134Z"
   },
   {
    "duration": 73,
    "start_time": "2024-06-07T04:40:46.157Z"
   },
   {
    "duration": 28,
    "start_time": "2024-06-07T04:40:46.235Z"
   },
   {
    "duration": 107,
    "start_time": "2024-06-07T04:40:46.269Z"
   },
   {
    "duration": 152,
    "start_time": "2024-06-07T04:40:46.378Z"
   },
   {
    "duration": 10,
    "start_time": "2024-06-07T04:40:46.533Z"
   },
   {
    "duration": 1418,
    "start_time": "2024-06-07T04:42:04.612Z"
   },
   {
    "duration": 388,
    "start_time": "2024-06-07T04:42:06.033Z"
   },
   {
    "duration": 78,
    "start_time": "2024-06-07T04:42:06.424Z"
   },
   {
    "duration": 82,
    "start_time": "2024-06-07T04:42:06.507Z"
   },
   {
    "duration": 88,
    "start_time": "2024-06-07T04:42:06.593Z"
   },
   {
    "duration": 81,
    "start_time": "2024-06-07T04:42:06.684Z"
   },
   {
    "duration": 95,
    "start_time": "2024-06-07T04:42:06.770Z"
   },
   {
    "duration": 74,
    "start_time": "2024-06-07T04:42:06.871Z"
   },
   {
    "duration": 1003,
    "start_time": "2024-06-07T04:42:06.948Z"
   },
   {
    "duration": 320,
    "start_time": "2024-06-07T04:42:07.954Z"
   },
   {
    "duration": 476,
    "start_time": "2024-06-07T04:42:08.277Z"
   },
   {
    "duration": 682,
    "start_time": "2024-06-07T04:42:08.756Z"
   },
   {
    "duration": 1377,
    "start_time": "2024-06-07T04:42:09.441Z"
   },
   {
    "duration": 301,
    "start_time": "2024-06-07T04:42:10.832Z"
   },
   {
    "duration": 20,
    "start_time": "2024-06-07T04:42:11.137Z"
   },
   {
    "duration": 26,
    "start_time": "2024-06-07T04:42:11.159Z"
   },
   {
    "duration": 49,
    "start_time": "2024-06-07T04:42:11.188Z"
   },
   {
    "duration": 5,
    "start_time": "2024-06-07T04:42:11.240Z"
   },
   {
    "duration": 76,
    "start_time": "2024-06-07T04:42:11.254Z"
   },
   {
    "duration": 106,
    "start_time": "2024-06-07T04:42:11.333Z"
   },
   {
    "duration": 195,
    "start_time": "2024-06-07T04:42:11.442Z"
   },
   {
    "duration": 5,
    "start_time": "2024-06-07T04:42:11.639Z"
   },
   {
    "duration": 1376,
    "start_time": "2024-06-07T04:43:49.695Z"
   },
   {
    "duration": 381,
    "start_time": "2024-06-07T04:43:51.076Z"
   },
   {
    "duration": 92,
    "start_time": "2024-06-07T04:43:51.459Z"
   },
   {
    "duration": 93,
    "start_time": "2024-06-07T04:43:51.553Z"
   },
   {
    "duration": 90,
    "start_time": "2024-06-07T04:43:51.650Z"
   },
   {
    "duration": 88,
    "start_time": "2024-06-07T04:43:51.742Z"
   },
   {
    "duration": 67,
    "start_time": "2024-06-07T04:43:51.834Z"
   },
   {
    "duration": 60,
    "start_time": "2024-06-07T04:43:51.931Z"
   },
   {
    "duration": 1784,
    "start_time": "2024-06-07T04:43:51.994Z"
   },
   {
    "duration": 280,
    "start_time": "2024-06-07T04:43:53.781Z"
   },
   {
    "duration": 420,
    "start_time": "2024-06-07T04:43:54.064Z"
   },
   {
    "duration": 301,
    "start_time": "2024-06-07T04:43:54.487Z"
   },
   {
    "duration": 1023,
    "start_time": "2024-06-07T04:43:54.791Z"
   },
   {
    "duration": 302,
    "start_time": "2024-06-07T04:43:55.819Z"
   },
   {
    "duration": 19,
    "start_time": "2024-06-07T04:43:56.130Z"
   },
   {
    "duration": 26,
    "start_time": "2024-06-07T04:43:56.152Z"
   },
   {
    "duration": 55,
    "start_time": "2024-06-07T04:43:56.182Z"
   },
   {
    "duration": 11,
    "start_time": "2024-06-07T04:43:56.240Z"
   },
   {
    "duration": 78,
    "start_time": "2024-06-07T04:43:56.255Z"
   },
   {
    "duration": 98,
    "start_time": "2024-06-07T04:43:56.336Z"
   },
   {
    "duration": 136,
    "start_time": "2024-06-07T04:43:56.437Z"
   },
   {
    "duration": 58,
    "start_time": "2024-06-07T04:43:56.576Z"
   },
   {
    "duration": 51,
    "start_time": "2024-06-07T04:47:31.210Z"
   },
   {
    "duration": 55,
    "start_time": "2024-06-07T04:49:36.151Z"
   },
   {
    "duration": 45,
    "start_time": "2024-06-07T04:51:11.505Z"
   },
   {
    "duration": 4,
    "start_time": "2024-06-07T05:10:49.583Z"
   },
   {
    "duration": 3,
    "start_time": "2024-06-07T05:11:22.343Z"
   },
   {
    "duration": 5,
    "start_time": "2024-06-07T05:13:21.018Z"
   },
   {
    "duration": 19,
    "start_time": "2024-06-07T05:13:29.316Z"
   },
   {
    "duration": 421,
    "start_time": "2024-06-07T05:20:05.764Z"
   },
   {
    "duration": 32,
    "start_time": "2024-06-07T05:20:18.829Z"
   },
   {
    "duration": 33,
    "start_time": "2024-06-07T05:20:44.166Z"
   },
   {
    "duration": 28,
    "start_time": "2024-06-07T05:21:03.978Z"
   },
   {
    "duration": 28,
    "start_time": "2024-06-07T05:23:09.758Z"
   },
   {
    "duration": 27,
    "start_time": "2024-06-07T05:23:28.792Z"
   },
   {
    "duration": 12,
    "start_time": "2024-06-07T05:24:00.138Z"
   },
   {
    "duration": 15,
    "start_time": "2024-06-07T05:25:04.869Z"
   },
   {
    "duration": 11,
    "start_time": "2024-06-07T05:26:30.256Z"
   },
   {
    "duration": 7,
    "start_time": "2024-06-07T05:26:47.148Z"
   },
   {
    "duration": 12,
    "start_time": "2024-06-07T05:26:52.297Z"
   },
   {
    "duration": 5,
    "start_time": "2024-06-07T05:31:03.757Z"
   },
   {
    "duration": 5,
    "start_time": "2024-06-07T05:31:23.284Z"
   },
   {
    "duration": 6,
    "start_time": "2024-06-07T05:31:38.766Z"
   },
   {
    "duration": 7,
    "start_time": "2024-06-07T05:31:55.834Z"
   },
   {
    "duration": 6,
    "start_time": "2024-06-07T05:32:20.419Z"
   },
   {
    "duration": 5,
    "start_time": "2024-06-07T05:32:36.035Z"
   },
   {
    "duration": 5,
    "start_time": "2024-06-07T05:33:00.678Z"
   },
   {
    "duration": 3,
    "start_time": "2024-06-07T05:33:45.692Z"
   },
   {
    "duration": 10,
    "start_time": "2024-06-07T05:35:44.557Z"
   },
   {
    "duration": 6,
    "start_time": "2024-06-07T05:35:50.866Z"
   },
   {
    "duration": 15,
    "start_time": "2024-06-07T05:38:12.009Z"
   },
   {
    "duration": 5,
    "start_time": "2024-06-07T05:38:14.344Z"
   },
   {
    "duration": 32,
    "start_time": "2024-06-07T05:43:22.244Z"
   },
   {
    "duration": 29,
    "start_time": "2024-06-07T05:43:31.585Z"
   },
   {
    "duration": 10,
    "start_time": "2024-06-07T05:43:40.763Z"
   },
   {
    "duration": 14,
    "start_time": "2024-06-07T05:44:46.343Z"
   },
   {
    "duration": 12,
    "start_time": "2024-06-07T05:45:49.201Z"
   },
   {
    "duration": 11,
    "start_time": "2024-06-07T05:45:55.595Z"
   },
   {
    "duration": 11,
    "start_time": "2024-06-07T05:46:25.609Z"
   },
   {
    "duration": 12,
    "start_time": "2024-06-07T05:47:27.074Z"
   },
   {
    "duration": 327,
    "start_time": "2024-06-07T16:41:28.701Z"
   },
   {
    "duration": 5175,
    "start_time": "2024-06-07T16:41:39.512Z"
   },
   {
    "duration": 546,
    "start_time": "2024-06-07T16:41:44.690Z"
   },
   {
    "duration": 91,
    "start_time": "2024-06-07T16:41:45.239Z"
   },
   {
    "duration": 94,
    "start_time": "2024-06-07T16:41:45.336Z"
   },
   {
    "duration": 89,
    "start_time": "2024-06-07T16:41:45.433Z"
   },
   {
    "duration": 82,
    "start_time": "2024-06-07T16:41:45.525Z"
   },
   {
    "duration": 87,
    "start_time": "2024-06-07T16:41:45.610Z"
   },
   {
    "duration": 60,
    "start_time": "2024-06-07T16:41:45.700Z"
   },
   {
    "duration": 1125,
    "start_time": "2024-06-07T16:41:45.766Z"
   },
   {
    "duration": 330,
    "start_time": "2024-06-07T16:41:46.897Z"
   },
   {
    "duration": 451,
    "start_time": "2024-06-07T16:41:47.242Z"
   },
   {
    "duration": 359,
    "start_time": "2024-06-07T16:41:47.696Z"
   },
   {
    "duration": 1156,
    "start_time": "2024-06-07T16:41:48.059Z"
   },
   {
    "duration": 343,
    "start_time": "2024-06-07T16:41:49.219Z"
   },
   {
    "duration": 29,
    "start_time": "2024-06-07T16:41:49.569Z"
   },
   {
    "duration": 31,
    "start_time": "2024-06-07T16:41:49.602Z"
   },
   {
    "duration": 56,
    "start_time": "2024-06-07T16:41:49.637Z"
   },
   {
    "duration": 7,
    "start_time": "2024-06-07T16:41:49.696Z"
   },
   {
    "duration": 276,
    "start_time": "2024-06-07T16:41:49.712Z"
   },
   {
    "duration": 55,
    "start_time": "2024-06-07T16:41:49.991Z"
   },
   {
    "duration": 164,
    "start_time": "2024-06-07T16:41:50.050Z"
   },
   {
    "duration": 4,
    "start_time": "2024-06-07T16:41:50.218Z"
   },
   {
    "duration": 69,
    "start_time": "2024-06-07T16:41:50.226Z"
   },
   {
    "duration": 5,
    "start_time": "2024-06-07T16:41:50.298Z"
   },
   {
    "duration": 87,
    "start_time": "2024-06-07T16:41:50.306Z"
   },
   {
    "duration": 6,
    "start_time": "2024-06-07T16:41:50.396Z"
   },
   {
    "duration": 10,
    "start_time": "2024-06-07T16:41:50.405Z"
   },
   {
    "duration": 4,
    "start_time": "2024-06-07T16:41:50.423Z"
   },
   {
    "duration": 11,
    "start_time": "2024-06-07T16:41:50.430Z"
   },
   {
    "duration": 7,
    "start_time": "2024-06-07T16:41:54.648Z"
   },
   {
    "duration": 11,
    "start_time": "2024-06-07T16:42:15.908Z"
   },
   {
    "duration": 12,
    "start_time": "2024-06-07T16:42:21.919Z"
   },
   {
    "duration": 8,
    "start_time": "2024-06-07T16:42:30.992Z"
   },
   {
    "duration": 8,
    "start_time": "2024-06-07T16:42:44.912Z"
   },
   {
    "duration": 12,
    "start_time": "2024-06-07T16:43:11.121Z"
   },
   {
    "duration": 14,
    "start_time": "2024-06-07T16:43:24.654Z"
   },
   {
    "duration": 8,
    "start_time": "2024-06-07T16:43:33.557Z"
   },
   {
    "duration": 7,
    "start_time": "2024-06-07T16:43:48.644Z"
   },
   {
    "duration": 8,
    "start_time": "2024-06-07T16:44:35.622Z"
   },
   {
    "duration": 8,
    "start_time": "2024-06-07T16:44:48.494Z"
   },
   {
    "duration": 9,
    "start_time": "2024-06-08T17:07:39.125Z"
   },
   {
    "duration": 4,
    "start_time": "2024-06-08T17:07:42.026Z"
   },
   {
    "duration": 302,
    "start_time": "2024-06-08T17:09:45.650Z"
   },
   {
    "duration": 5000,
    "start_time": "2024-06-08T17:10:18.514Z"
   },
   {
    "duration": 485,
    "start_time": "2024-06-08T17:10:23.519Z"
   },
   {
    "duration": 89,
    "start_time": "2024-06-08T17:10:24.006Z"
   },
   {
    "duration": 79,
    "start_time": "2024-06-08T17:10:24.098Z"
   },
   {
    "duration": 87,
    "start_time": "2024-06-08T17:10:24.182Z"
   },
   {
    "duration": 56,
    "start_time": "2024-06-08T17:10:24.272Z"
   },
   {
    "duration": 95,
    "start_time": "2024-06-08T17:10:24.330Z"
   },
   {
    "duration": 70,
    "start_time": "2024-06-08T17:10:24.428Z"
   },
   {
    "duration": 1039,
    "start_time": "2024-06-08T17:10:24.500Z"
   },
   {
    "duration": 283,
    "start_time": "2024-06-08T17:10:25.542Z"
   },
   {
    "duration": 404,
    "start_time": "2024-06-08T17:10:25.827Z"
   },
   {
    "duration": 291,
    "start_time": "2024-06-08T17:10:26.234Z"
   },
   {
    "duration": 919,
    "start_time": "2024-06-08T17:10:26.528Z"
   },
   {
    "duration": 280,
    "start_time": "2024-06-08T17:10:27.452Z"
   },
   {
    "duration": 32,
    "start_time": "2024-06-08T17:10:27.735Z"
   },
   {
    "duration": 26,
    "start_time": "2024-06-08T17:10:27.771Z"
   },
   {
    "duration": 71,
    "start_time": "2024-06-08T17:10:27.800Z"
   },
   {
    "duration": 7,
    "start_time": "2024-06-08T17:10:27.874Z"
   },
   {
    "duration": 242,
    "start_time": "2024-06-08T17:10:27.885Z"
   },
   {
    "duration": 66,
    "start_time": "2024-06-08T17:10:28.130Z"
   },
   {
    "duration": 183,
    "start_time": "2024-06-08T17:10:28.199Z"
   },
   {
    "duration": 8,
    "start_time": "2024-06-08T17:10:28.385Z"
   },
   {
    "duration": 5,
    "start_time": "2024-06-08T17:10:28.396Z"
   },
   {
    "duration": 70,
    "start_time": "2024-06-08T17:10:28.404Z"
   },
   {
    "duration": 11,
    "start_time": "2024-06-08T17:10:35.619Z"
   },
   {
    "duration": 143,
    "start_time": "2024-06-08T17:18:24.955Z"
   },
   {
    "duration": 4,
    "start_time": "2024-06-08T17:18:45.816Z"
   },
   {
    "duration": 4,
    "start_time": "2024-06-08T17:18:49.640Z"
   },
   {
    "duration": 41,
    "start_time": "2024-06-08T17:18:53.290Z"
   },
   {
    "duration": 4,
    "start_time": "2024-06-08T17:19:20.557Z"
   },
   {
    "duration": 4,
    "start_time": "2024-06-08T17:19:24.390Z"
   },
   {
    "duration": 47,
    "start_time": "2024-06-08T17:19:28.362Z"
   },
   {
    "duration": 4,
    "start_time": "2024-06-08T17:19:47.299Z"
   },
   {
    "duration": 10,
    "start_time": "2024-06-08T17:19:51.086Z"
   },
   {
    "duration": 11,
    "start_time": "2024-06-08T17:20:05.434Z"
   },
   {
    "duration": 10,
    "start_time": "2024-06-08T17:20:39.089Z"
   },
   {
    "duration": 11,
    "start_time": "2024-06-08T17:21:10.333Z"
   },
   {
    "duration": 10,
    "start_time": "2024-06-08T17:22:44.531Z"
   },
   {
    "duration": 12,
    "start_time": "2024-06-08T17:24:05.010Z"
   },
   {
    "duration": 5,
    "start_time": "2024-06-08T17:32:48.364Z"
   },
   {
    "duration": 5,
    "start_time": "2024-06-08T17:32:53.136Z"
   },
   {
    "duration": 6,
    "start_time": "2024-06-08T17:33:13.850Z"
   },
   {
    "duration": 7,
    "start_time": "2024-06-08T17:34:02.978Z"
   },
   {
    "duration": 7,
    "start_time": "2024-06-08T17:34:17.516Z"
   },
   {
    "duration": 8,
    "start_time": "2024-06-08T17:34:41.761Z"
   },
   {
    "duration": 5,
    "start_time": "2024-06-08T17:34:52.796Z"
   },
   {
    "duration": 8,
    "start_time": "2024-06-08T17:36:48.497Z"
   },
   {
    "duration": 11,
    "start_time": "2024-06-08T17:37:06.505Z"
   },
   {
    "duration": 11,
    "start_time": "2024-06-08T17:37:17.434Z"
   },
   {
    "duration": 11,
    "start_time": "2024-06-08T17:38:34.576Z"
   },
   {
    "duration": 11,
    "start_time": "2024-06-08T17:38:38.395Z"
   },
   {
    "duration": 1414,
    "start_time": "2024-06-08T17:40:18.063Z"
   },
   {
    "duration": 381,
    "start_time": "2024-06-08T17:40:19.480Z"
   },
   {
    "duration": 100,
    "start_time": "2024-06-08T17:40:19.866Z"
   },
   {
    "duration": 62,
    "start_time": "2024-06-08T17:40:19.971Z"
   },
   {
    "duration": 89,
    "start_time": "2024-06-08T17:40:20.036Z"
   },
   {
    "duration": 87,
    "start_time": "2024-06-08T17:40:20.128Z"
   },
   {
    "duration": 94,
    "start_time": "2024-06-08T17:40:20.217Z"
   },
   {
    "duration": 77,
    "start_time": "2024-06-08T17:40:20.316Z"
   },
   {
    "duration": 1001,
    "start_time": "2024-06-08T17:40:20.396Z"
   },
   {
    "duration": 283,
    "start_time": "2024-06-08T17:40:21.404Z"
   },
   {
    "duration": 416,
    "start_time": "2024-06-08T17:40:21.690Z"
   },
   {
    "duration": 309,
    "start_time": "2024-06-08T17:40:22.109Z"
   },
   {
    "duration": 1010,
    "start_time": "2024-06-08T17:40:22.421Z"
   },
   {
    "duration": 289,
    "start_time": "2024-06-08T17:40:23.433Z"
   },
   {
    "duration": 18,
    "start_time": "2024-06-08T17:40:23.725Z"
   },
   {
    "duration": 41,
    "start_time": "2024-06-08T17:40:23.746Z"
   },
   {
    "duration": 18,
    "start_time": "2024-06-08T17:40:23.790Z"
   },
   {
    "duration": 60,
    "start_time": "2024-06-08T17:40:23.810Z"
   },
   {
    "duration": 10,
    "start_time": "2024-06-08T17:40:23.872Z"
   },
   {
    "duration": 127,
    "start_time": "2024-06-08T17:40:23.885Z"
   },
   {
    "duration": 177,
    "start_time": "2024-06-08T17:40:24.015Z"
   },
   {
    "duration": 4,
    "start_time": "2024-06-08T17:40:24.195Z"
   },
   {
    "duration": 66,
    "start_time": "2024-06-08T17:40:24.202Z"
   },
   {
    "duration": 11,
    "start_time": "2024-06-08T17:40:24.273Z"
   },
   {
    "duration": 87,
    "start_time": "2024-06-08T17:40:24.287Z"
   },
   {
    "duration": 16,
    "start_time": "2024-06-08T17:40:24.378Z"
   },
   {
    "duration": 13,
    "start_time": "2024-06-08T17:40:24.400Z"
   },
   {
    "duration": 610,
    "start_time": "2024-06-08T18:55:31.053Z"
   },
   {
    "duration": 593,
    "start_time": "2024-06-08T18:56:40.663Z"
   },
   {
    "duration": 591,
    "start_time": "2024-06-08T18:56:53.111Z"
   },
   {
    "duration": 6,
    "start_time": "2024-06-08T18:58:46.279Z"
   },
   {
    "duration": 603,
    "start_time": "2024-06-08T18:59:08.958Z"
   },
   {
    "duration": 602,
    "start_time": "2024-06-08T19:00:48.315Z"
   },
   {
    "duration": 591,
    "start_time": "2024-06-08T19:00:55.035Z"
   },
   {
    "duration": 641,
    "start_time": "2024-06-08T19:01:42.045Z"
   },
   {
    "duration": 594,
    "start_time": "2024-06-08T19:02:52.398Z"
   },
   {
    "duration": 591,
    "start_time": "2024-06-08T19:03:04.734Z"
   },
   {
    "duration": 597,
    "start_time": "2024-06-08T19:03:26.329Z"
   },
   {
    "duration": 610,
    "start_time": "2024-06-08T19:04:48.376Z"
   },
   {
    "duration": 1024,
    "start_time": "2024-06-08T19:05:00.115Z"
   },
   {
    "duration": 598,
    "start_time": "2024-06-08T19:05:11.228Z"
   },
   {
    "duration": 6,
    "start_time": "2024-06-08T19:06:48.622Z"
   },
   {
    "duration": 6,
    "start_time": "2024-06-08T19:06:57.683Z"
   },
   {
    "duration": 7,
    "start_time": "2024-06-08T19:07:09.359Z"
   },
   {
    "duration": 6,
    "start_time": "2024-06-08T19:08:00.354Z"
   },
   {
    "duration": 586,
    "start_time": "2024-06-08T19:08:09.081Z"
   },
   {
    "duration": 663,
    "start_time": "2024-06-08T19:08:31.116Z"
   },
   {
    "duration": 595,
    "start_time": "2024-06-08T19:08:36.093Z"
   },
   {
    "duration": 6,
    "start_time": "2024-06-08T19:10:18.419Z"
   },
   {
    "duration": 9,
    "start_time": "2024-06-08T19:10:31.358Z"
   },
   {
    "duration": 9,
    "start_time": "2024-06-08T19:10:43.079Z"
   },
   {
    "duration": 7,
    "start_time": "2024-06-08T19:11:00.006Z"
   },
   {
    "duration": 4,
    "start_time": "2024-06-08T19:11:08.937Z"
   },
   {
    "duration": 4,
    "start_time": "2024-06-08T19:11:16.894Z"
   },
   {
    "duration": 6,
    "start_time": "2024-06-08T19:11:22.756Z"
   },
   {
    "duration": 588,
    "start_time": "2024-06-08T19:11:34.056Z"
   },
   {
    "duration": 633,
    "start_time": "2024-06-08T19:11:43.447Z"
   },
   {
    "duration": 604,
    "start_time": "2024-06-08T19:13:28.103Z"
   },
   {
    "duration": 591,
    "start_time": "2024-06-08T19:13:52.671Z"
   },
   {
    "duration": 592,
    "start_time": "2024-06-08T19:14:19.093Z"
   },
   {
    "duration": 590,
    "start_time": "2024-06-08T19:14:29.705Z"
   },
   {
    "duration": 590,
    "start_time": "2024-06-08T19:15:02.103Z"
   },
   {
    "duration": 590,
    "start_time": "2024-06-08T19:15:36.506Z"
   },
   {
    "duration": 592,
    "start_time": "2024-06-08T19:21:20.439Z"
   },
   {
    "duration": 599,
    "start_time": "2024-06-08T19:21:31.459Z"
   },
   {
    "duration": 5,
    "start_time": "2024-06-08T19:21:55.418Z"
   },
   {
    "duration": 599,
    "start_time": "2024-06-08T19:21:58.450Z"
   },
   {
    "duration": 589,
    "start_time": "2024-06-08T19:22:01.227Z"
   },
   {
    "duration": 598,
    "start_time": "2024-06-08T19:22:06.334Z"
   },
   {
    "duration": 27,
    "start_time": "2024-06-08T19:26:47.230Z"
   },
   {
    "duration": 5,
    "start_time": "2024-06-08T19:26:53.391Z"
   },
   {
    "duration": 4,
    "start_time": "2024-06-08T19:27:20.519Z"
   },
   {
    "duration": 1407,
    "start_time": "2024-06-08T19:28:04.403Z"
   },
   {
    "duration": 414,
    "start_time": "2024-06-08T19:28:05.814Z"
   },
   {
    "duration": 97,
    "start_time": "2024-06-08T19:28:06.232Z"
   },
   {
    "duration": 102,
    "start_time": "2024-06-08T19:28:06.332Z"
   },
   {
    "duration": 90,
    "start_time": "2024-06-08T19:28:06.439Z"
   },
   {
    "duration": 93,
    "start_time": "2024-06-08T19:28:06.532Z"
   },
   {
    "duration": 96,
    "start_time": "2024-06-08T19:28:06.628Z"
   },
   {
    "duration": 86,
    "start_time": "2024-06-08T19:28:06.727Z"
   },
   {
    "duration": 1065,
    "start_time": "2024-06-08T19:28:06.816Z"
   },
   {
    "duration": 307,
    "start_time": "2024-06-08T19:28:07.886Z"
   },
   {
    "duration": 434,
    "start_time": "2024-06-08T19:28:08.196Z"
   },
   {
    "duration": 313,
    "start_time": "2024-06-08T19:28:08.633Z"
   },
   {
    "duration": 1037,
    "start_time": "2024-06-08T19:28:08.952Z"
   },
   {
    "duration": 325,
    "start_time": "2024-06-08T19:28:09.997Z"
   },
   {
    "duration": 22,
    "start_time": "2024-06-08T19:28:10.325Z"
   },
   {
    "duration": 42,
    "start_time": "2024-06-08T19:28:10.351Z"
   },
   {
    "duration": 20,
    "start_time": "2024-06-08T19:28:10.397Z"
   },
   {
    "duration": 54,
    "start_time": "2024-06-08T19:28:10.420Z"
   },
   {
    "duration": 19,
    "start_time": "2024-06-08T19:28:10.477Z"
   },
   {
    "duration": 55,
    "start_time": "2024-06-08T19:28:10.567Z"
   },
   {
    "duration": 177,
    "start_time": "2024-06-08T19:28:10.625Z"
   },
   {
    "duration": 62,
    "start_time": "2024-06-08T19:28:10.806Z"
   },
   {
    "duration": 5,
    "start_time": "2024-06-08T19:28:10.871Z"
   },
   {
    "duration": 6,
    "start_time": "2024-06-08T19:28:10.879Z"
   },
   {
    "duration": 80,
    "start_time": "2024-06-08T19:28:10.889Z"
   },
   {
    "duration": 22,
    "start_time": "2024-06-08T19:28:10.973Z"
   },
   {
    "duration": 14,
    "start_time": "2024-06-08T19:28:11.002Z"
   },
   {
    "duration": 51,
    "start_time": "2024-06-08T19:28:11.019Z"
   },
   {
    "duration": 631,
    "start_time": "2024-06-08T19:28:11.073Z"
   },
   {
    "duration": 642,
    "start_time": "2024-06-08T19:28:11.707Z"
   },
   {
    "duration": 616,
    "start_time": "2024-06-08T19:28:12.353Z"
   },
   {
    "duration": 6,
    "start_time": "2024-06-08T19:28:12.972Z"
   },
   {
    "duration": 16,
    "start_time": "2024-06-08T21:46:40.913Z"
   },
   {
    "duration": 14,
    "start_time": "2024-06-11T01:13:44.301Z"
   },
   {
    "duration": 334,
    "start_time": "2024-06-11T01:14:04.706Z"
   },
   {
    "duration": 5228,
    "start_time": "2024-06-11T01:14:16.945Z"
   },
   {
    "duration": 596,
    "start_time": "2024-06-11T01:14:24.273Z"
   },
   {
    "duration": 81,
    "start_time": "2024-06-11T01:14:29.800Z"
   },
   {
    "duration": 6,
    "start_time": "2024-06-11T01:14:33.171Z"
   },
   {
    "duration": 1080,
    "start_time": "2024-06-11T01:14:35.577Z"
   },
   {
    "duration": 5,
    "start_time": "2024-06-11T01:15:05.656Z"
   },
   {
    "duration": 74,
    "start_time": "2024-06-11T01:15:08.890Z"
   },
   {
    "duration": 81,
    "start_time": "2024-06-11T01:19:38.877Z"
   },
   {
    "duration": 7,
    "start_time": "2024-06-11T01:19:49.557Z"
   },
   {
    "duration": 85,
    "start_time": "2024-06-11T01:19:54.851Z"
   },
   {
    "duration": 7,
    "start_time": "2024-06-11T01:20:48.876Z"
   },
   {
    "duration": 395,
    "start_time": "2024-06-11T01:20:48.888Z"
   },
   {
    "duration": 87,
    "start_time": "2024-06-11T01:20:49.287Z"
   },
   {
    "duration": 24,
    "start_time": "2024-06-11T01:20:49.377Z"
   },
   {
    "duration": 1433,
    "start_time": "2024-06-11T01:21:23.564Z"
   },
   {
    "duration": 402,
    "start_time": "2024-06-11T01:21:25.001Z"
   },
   {
    "duration": 96,
    "start_time": "2024-06-11T01:21:25.406Z"
   },
   {
    "duration": 7,
    "start_time": "2024-06-11T01:21:25.505Z"
   },
   {
    "duration": 105,
    "start_time": "2024-06-11T01:21:25.518Z"
   },
   {
    "duration": 1501,
    "start_time": "2024-06-11T01:21:25.626Z"
   },
   {
    "duration": 0,
    "start_time": "2024-06-11T01:21:27.133Z"
   },
   {
    "duration": 0,
    "start_time": "2024-06-11T01:21:27.137Z"
   },
   {
    "duration": 0,
    "start_time": "2024-06-11T01:21:27.139Z"
   },
   {
    "duration": 0,
    "start_time": "2024-06-11T01:21:27.142Z"
   },
   {
    "duration": 0,
    "start_time": "2024-06-11T01:21:27.144Z"
   },
   {
    "duration": 0,
    "start_time": "2024-06-11T01:21:27.147Z"
   },
   {
    "duration": 0,
    "start_time": "2024-06-11T01:21:27.152Z"
   },
   {
    "duration": 0,
    "start_time": "2024-06-11T01:21:27.155Z"
   },
   {
    "duration": 0,
    "start_time": "2024-06-11T01:21:27.159Z"
   },
   {
    "duration": 0,
    "start_time": "2024-06-11T01:21:27.162Z"
   },
   {
    "duration": 0,
    "start_time": "2024-06-11T01:21:27.164Z"
   },
   {
    "duration": 0,
    "start_time": "2024-06-11T01:21:27.207Z"
   },
   {
    "duration": 0,
    "start_time": "2024-06-11T01:21:27.210Z"
   },
   {
    "duration": 0,
    "start_time": "2024-06-11T01:21:27.213Z"
   },
   {
    "duration": 0,
    "start_time": "2024-06-11T01:21:27.215Z"
   },
   {
    "duration": 0,
    "start_time": "2024-06-11T01:21:27.220Z"
   },
   {
    "duration": 0,
    "start_time": "2024-06-11T01:21:27.222Z"
   },
   {
    "duration": 0,
    "start_time": "2024-06-11T01:21:27.224Z"
   },
   {
    "duration": 0,
    "start_time": "2024-06-11T01:21:27.226Z"
   },
   {
    "duration": 0,
    "start_time": "2024-06-11T01:21:27.228Z"
   },
   {
    "duration": 0,
    "start_time": "2024-06-11T01:21:27.232Z"
   },
   {
    "duration": 0,
    "start_time": "2024-06-11T01:21:27.234Z"
   },
   {
    "duration": 0,
    "start_time": "2024-06-11T01:21:27.236Z"
   },
   {
    "duration": 0,
    "start_time": "2024-06-11T01:21:27.238Z"
   },
   {
    "duration": 0,
    "start_time": "2024-06-11T01:21:27.241Z"
   },
   {
    "duration": 0,
    "start_time": "2024-06-11T01:21:27.242Z"
   },
   {
    "duration": 0,
    "start_time": "2024-06-11T01:21:27.244Z"
   },
   {
    "duration": 0,
    "start_time": "2024-06-11T01:21:27.246Z"
   },
   {
    "duration": 60,
    "start_time": "2024-06-11T01:24:19.346Z"
   },
   {
    "duration": 1422,
    "start_time": "2024-06-11T01:24:48.730Z"
   },
   {
    "duration": 400,
    "start_time": "2024-06-11T01:24:50.156Z"
   },
   {
    "duration": 6,
    "start_time": "2024-06-11T01:24:50.559Z"
   },
   {
    "duration": 103,
    "start_time": "2024-06-11T01:24:50.568Z"
   },
   {
    "duration": 87,
    "start_time": "2024-06-11T01:24:50.676Z"
   },
   {
    "duration": 107,
    "start_time": "2024-06-11T01:24:50.768Z"
   },
   {
    "duration": 63,
    "start_time": "2024-06-11T01:24:50.879Z"
   },
   {
    "duration": 101,
    "start_time": "2024-06-11T01:24:50.945Z"
   },
   {
    "duration": 80,
    "start_time": "2024-06-11T01:24:51.050Z"
   },
   {
    "duration": 1075,
    "start_time": "2024-06-11T01:24:51.133Z"
   },
   {
    "duration": 279,
    "start_time": "2024-06-11T01:24:52.211Z"
   },
   {
    "duration": 434,
    "start_time": "2024-06-11T01:24:52.493Z"
   },
   {
    "duration": 297,
    "start_time": "2024-06-11T01:24:52.933Z"
   },
   {
    "duration": 1061,
    "start_time": "2024-06-11T01:24:53.236Z"
   },
   {
    "duration": 291,
    "start_time": "2024-06-11T01:24:54.306Z"
   },
   {
    "duration": 19,
    "start_time": "2024-06-11T01:24:54.610Z"
   },
   {
    "duration": 27,
    "start_time": "2024-06-11T01:24:54.634Z"
   },
   {
    "duration": 48,
    "start_time": "2024-06-11T01:24:54.664Z"
   },
   {
    "duration": 16,
    "start_time": "2024-06-11T01:24:54.716Z"
   },
   {
    "duration": 68,
    "start_time": "2024-06-11T01:24:54.736Z"
   },
   {
    "duration": 51,
    "start_time": "2024-06-11T01:24:54.807Z"
   },
   {
    "duration": 144,
    "start_time": "2024-06-11T01:24:54.861Z"
   },
   {
    "duration": 6,
    "start_time": "2024-06-11T01:24:55.014Z"
   },
   {
    "duration": 10,
    "start_time": "2024-06-11T01:24:55.025Z"
   },
   {
    "duration": 65,
    "start_time": "2024-06-11T01:24:55.039Z"
   },
   {
    "duration": 16,
    "start_time": "2024-06-11T01:24:55.112Z"
   },
   {
    "duration": 16,
    "start_time": "2024-06-11T01:24:55.131Z"
   },
   {
    "duration": 13,
    "start_time": "2024-06-11T01:24:55.154Z"
   },
   {
    "duration": 54,
    "start_time": "2024-06-11T01:24:55.170Z"
   },
   {
    "duration": 632,
    "start_time": "2024-06-11T01:24:55.235Z"
   },
   {
    "duration": 1355,
    "start_time": "2024-06-11T01:24:55.870Z"
   },
   {
    "duration": 715,
    "start_time": "2024-06-11T01:24:57.229Z"
   },
   {
    "duration": 5,
    "start_time": "2024-06-11T01:24:57.947Z"
   },
   {
    "duration": 7,
    "start_time": "2024-06-11T03:29:11.031Z"
   },
   {
    "duration": 441,
    "start_time": "2024-06-11T03:29:16.872Z"
   },
   {
    "duration": 6,
    "start_time": "2024-06-11T03:29:34.365Z"
   },
   {
    "duration": 534,
    "start_time": "2024-06-11T03:29:37.084Z"
   },
   {
    "duration": 6,
    "start_time": "2024-06-11T03:30:05.628Z"
   },
   {
    "duration": 531,
    "start_time": "2024-06-11T03:30:09.553Z"
   },
   {
    "duration": 8,
    "start_time": "2024-06-11T03:31:15.719Z"
   },
   {
    "duration": 467,
    "start_time": "2024-06-11T03:31:18.130Z"
   },
   {
    "duration": 12,
    "start_time": "2024-06-11T03:32:31.908Z"
   },
   {
    "duration": 495,
    "start_time": "2024-06-11T03:32:34.623Z"
   },
   {
    "duration": 501,
    "start_time": "2024-06-11T03:34:02.299Z"
   },
   {
    "duration": 1405,
    "start_time": "2024-06-11T03:34:46.731Z"
   },
   {
    "duration": 419,
    "start_time": "2024-06-11T03:34:48.140Z"
   },
   {
    "duration": 6,
    "start_time": "2024-06-11T03:34:48.561Z"
   },
   {
    "duration": 82,
    "start_time": "2024-06-11T03:34:48.570Z"
   },
   {
    "duration": 83,
    "start_time": "2024-06-11T03:34:48.657Z"
   },
   {
    "duration": 92,
    "start_time": "2024-06-11T03:34:48.743Z"
   },
   {
    "duration": 85,
    "start_time": "2024-06-11T03:34:48.839Z"
   },
   {
    "duration": 86,
    "start_time": "2024-06-11T03:34:48.926Z"
   },
   {
    "duration": 57,
    "start_time": "2024-06-11T03:34:49.018Z"
   },
   {
    "duration": 1022,
    "start_time": "2024-06-11T03:34:49.078Z"
   },
   {
    "duration": 273,
    "start_time": "2024-06-11T03:34:50.112Z"
   },
   {
    "duration": 435,
    "start_time": "2024-06-11T03:34:50.388Z"
   },
   {
    "duration": 275,
    "start_time": "2024-06-11T03:34:50.828Z"
   },
   {
    "duration": 1019,
    "start_time": "2024-06-11T03:34:51.111Z"
   },
   {
    "duration": 315,
    "start_time": "2024-06-11T03:34:52.134Z"
   },
   {
    "duration": 19,
    "start_time": "2024-06-11T03:34:52.452Z"
   },
   {
    "duration": 51,
    "start_time": "2024-06-11T03:34:52.474Z"
   },
   {
    "duration": 14,
    "start_time": "2024-06-11T03:34:52.530Z"
   },
   {
    "duration": 6,
    "start_time": "2024-06-11T03:34:52.547Z"
   },
   {
    "duration": 14,
    "start_time": "2024-06-11T03:34:52.602Z"
   },
   {
    "duration": 118,
    "start_time": "2024-06-11T03:34:52.621Z"
   },
   {
    "duration": 188,
    "start_time": "2024-06-11T03:34:52.742Z"
   },
   {
    "duration": 5,
    "start_time": "2024-06-11T03:34:52.932Z"
   },
   {
    "duration": 7,
    "start_time": "2024-06-11T03:34:52.939Z"
   },
   {
    "duration": 55,
    "start_time": "2024-06-11T03:34:52.949Z"
   },
   {
    "duration": 20,
    "start_time": "2024-06-11T03:34:53.006Z"
   },
   {
    "duration": 18,
    "start_time": "2024-06-11T03:34:53.028Z"
   },
   {
    "duration": 64,
    "start_time": "2024-06-11T03:34:53.048Z"
   },
   {
    "duration": 15,
    "start_time": "2024-06-11T03:34:53.115Z"
   },
   {
    "duration": 939,
    "start_time": "2024-06-11T03:34:53.133Z"
   },
   {
    "duration": 0,
    "start_time": "2024-06-11T03:34:54.075Z"
   },
   {
    "duration": 0,
    "start_time": "2024-06-11T03:34:54.078Z"
   },
   {
    "duration": 0,
    "start_time": "2024-06-11T03:34:54.080Z"
   },
   {
    "duration": 504,
    "start_time": "2024-06-11T03:35:29.441Z"
   },
   {
    "duration": 506,
    "start_time": "2024-06-11T03:35:45.438Z"
   },
   {
    "duration": 492,
    "start_time": "2024-06-11T03:35:48.368Z"
   },
   {
    "duration": 4,
    "start_time": "2024-06-11T03:35:59.868Z"
   },
   {
    "duration": 5094,
    "start_time": "2024-06-11T19:46:50.195Z"
   },
   {
    "duration": 736,
    "start_time": "2024-06-11T19:46:55.293Z"
   },
   {
    "duration": 16,
    "start_time": "2024-06-11T19:46:56.037Z"
   },
   {
    "duration": 104,
    "start_time": "2024-06-11T19:46:56.066Z"
   },
   {
    "duration": 104,
    "start_time": "2024-06-11T19:46:56.173Z"
   },
   {
    "duration": 100,
    "start_time": "2024-06-11T19:46:56.280Z"
   },
   {
    "duration": 79,
    "start_time": "2024-06-11T19:46:56.383Z"
   },
   {
    "duration": 95,
    "start_time": "2024-06-11T19:46:56.465Z"
   },
   {
    "duration": 76,
    "start_time": "2024-06-11T19:46:56.564Z"
   },
   {
    "duration": 1064,
    "start_time": "2024-06-11T19:46:56.645Z"
   },
   {
    "duration": 276,
    "start_time": "2024-06-11T19:46:57.712Z"
   },
   {
    "duration": 410,
    "start_time": "2024-06-11T19:46:57.991Z"
   },
   {
    "duration": 283,
    "start_time": "2024-06-11T19:46:58.404Z"
   },
   {
    "duration": 1004,
    "start_time": "2024-06-11T19:46:58.690Z"
   },
   {
    "duration": 284,
    "start_time": "2024-06-11T19:46:59.697Z"
   },
   {
    "duration": 19,
    "start_time": "2024-06-11T19:47:06.209Z"
   },
   {
    "duration": 26,
    "start_time": "2024-06-11T19:47:06.285Z"
   },
   {
    "duration": 84,
    "start_time": "2024-06-11T19:47:06.449Z"
   },
   {
    "duration": 9,
    "start_time": "2024-06-11T19:47:06.544Z"
   },
   {
    "duration": 9,
    "start_time": "2024-06-11T19:47:06.674Z"
   },
   {
    "duration": 58,
    "start_time": "2024-06-11T19:47:06.803Z"
   },
   {
    "duration": 50,
    "start_time": "2024-06-11T19:47:07.652Z"
   },
   {
    "duration": 4,
    "start_time": "2024-06-11T19:47:08.932Z"
   },
   {
    "duration": 6,
    "start_time": "2024-06-11T19:47:08.996Z"
   },
   {
    "duration": 4,
    "start_time": "2024-06-11T19:47:09.028Z"
   },
   {
    "duration": 13,
    "start_time": "2024-06-11T19:47:09.999Z"
   },
   {
    "duration": 11,
    "start_time": "2024-06-11T19:47:10.559Z"
   },
   {
    "duration": 11,
    "start_time": "2024-06-11T19:47:11.027Z"
   },
   {
    "duration": 6,
    "start_time": "2024-06-11T19:47:12.096Z"
   },
   {
    "duration": 531,
    "start_time": "2024-06-11T19:47:13.497Z"
   },
   {
    "duration": 487,
    "start_time": "2024-06-11T19:47:14.160Z"
   },
   {
    "duration": 492,
    "start_time": "2024-06-11T19:47:14.650Z"
   },
   {
    "duration": 4,
    "start_time": "2024-06-11T19:47:15.304Z"
   },
   {
    "duration": 426,
    "start_time": "2024-06-11T19:48:57.108Z"
   },
   {
    "duration": 6,
    "start_time": "2024-06-11T19:49:15.911Z"
   },
   {
    "duration": 5,
    "start_time": "2024-06-11T19:49:54.346Z"
   },
   {
    "duration": 5,
    "start_time": "2024-06-11T19:50:20.268Z"
   },
   {
    "duration": 321,
    "start_time": "2024-06-11T21:49:33.867Z"
   },
   {
    "duration": 5850,
    "start_time": "2024-06-11T21:49:46.744Z"
   },
   {
    "duration": 516,
    "start_time": "2024-06-11T21:49:52.598Z"
   },
   {
    "duration": 6,
    "start_time": "2024-06-11T21:49:53.117Z"
   },
   {
    "duration": 95,
    "start_time": "2024-06-11T21:49:53.127Z"
   },
   {
    "duration": 83,
    "start_time": "2024-06-11T21:49:53.225Z"
   },
   {
    "duration": 103,
    "start_time": "2024-06-11T21:49:53.311Z"
   },
   {
    "duration": 79,
    "start_time": "2024-06-11T21:49:53.418Z"
   },
   {
    "duration": 100,
    "start_time": "2024-06-11T21:49:53.500Z"
   },
   {
    "duration": 86,
    "start_time": "2024-06-11T21:49:53.603Z"
   },
   {
    "duration": 1044,
    "start_time": "2024-06-11T21:49:53.695Z"
   },
   {
    "duration": 306,
    "start_time": "2024-06-11T21:49:54.742Z"
   },
   {
    "duration": 464,
    "start_time": "2024-06-11T21:49:55.052Z"
   },
   {
    "duration": 322,
    "start_time": "2024-06-11T21:49:55.520Z"
   },
   {
    "duration": 974,
    "start_time": "2024-06-11T21:49:55.845Z"
   },
   {
    "duration": 308,
    "start_time": "2024-06-11T21:49:56.823Z"
   },
   {
    "duration": 33,
    "start_time": "2024-06-11T21:49:57.135Z"
   },
   {
    "duration": 27,
    "start_time": "2024-06-11T21:49:57.171Z"
   },
   {
    "duration": 72,
    "start_time": "2024-06-11T21:49:57.201Z"
   },
   {
    "duration": 6,
    "start_time": "2024-06-11T21:49:57.275Z"
   },
   {
    "duration": 261,
    "start_time": "2024-06-11T21:49:57.284Z"
   },
   {
    "duration": 60,
    "start_time": "2024-06-11T21:49:57.548Z"
   },
   {
    "duration": 166,
    "start_time": "2024-06-11T21:49:57.611Z"
   },
   {
    "duration": 4,
    "start_time": "2024-06-11T21:49:57.780Z"
   },
   {
    "duration": 7,
    "start_time": "2024-06-11T21:49:57.787Z"
   },
   {
    "duration": 6,
    "start_time": "2024-06-11T21:49:57.869Z"
   },
   {
    "duration": 91,
    "start_time": "2024-06-11T21:49:57.879Z"
   },
   {
    "duration": 11,
    "start_time": "2024-06-11T21:49:57.973Z"
   },
   {
    "duration": 11,
    "start_time": "2024-06-11T21:49:57.991Z"
   },
   {
    "duration": 6,
    "start_time": "2024-06-11T21:49:58.005Z"
   },
   {
    "duration": 493,
    "start_time": "2024-06-11T21:49:58.014Z"
   },
   {
    "duration": 0,
    "start_time": "2024-06-11T21:49:58.512Z"
   },
   {
    "duration": 0,
    "start_time": "2024-06-11T21:49:58.514Z"
   },
   {
    "duration": 0,
    "start_time": "2024-06-11T21:49:58.517Z"
   },
   {
    "duration": 45,
    "start_time": "2024-06-11T21:50:14.302Z"
   },
   {
    "duration": 504,
    "start_time": "2024-06-11T21:51:02.084Z"
   },
   {
    "duration": 497,
    "start_time": "2024-06-11T21:51:24.748Z"
   },
   {
    "duration": 515,
    "start_time": "2024-06-11T21:53:51.943Z"
   },
   {
    "duration": 7,
    "start_time": "2024-06-11T21:54:05.227Z"
   },
   {
    "duration": 15,
    "start_time": "2024-06-11T21:54:13.523Z"
   },
   {
    "duration": 27,
    "start_time": "2024-06-11T21:54:34.892Z"
   },
   {
    "duration": 6,
    "start_time": "2024-06-11T21:54:45.297Z"
   },
   {
    "duration": 6,
    "start_time": "2024-06-11T22:07:43.061Z"
   },
   {
    "duration": 793,
    "start_time": "2024-06-11T22:08:13.746Z"
   },
   {
    "duration": 779,
    "start_time": "2024-06-11T22:08:26.346Z"
   },
   {
    "duration": 8,
    "start_time": "2024-06-11T22:09:25.991Z"
   },
   {
    "duration": 7,
    "start_time": "2024-06-11T22:09:47.587Z"
   },
   {
    "duration": 851,
    "start_time": "2024-06-11T22:10:16.135Z"
   },
   {
    "duration": 781,
    "start_time": "2024-06-11T22:11:22.007Z"
   },
   {
    "duration": 6,
    "start_time": "2024-06-11T22:11:36.512Z"
   },
   {
    "duration": 5,
    "start_time": "2024-06-11T22:11:55.546Z"
   },
   {
    "duration": 6,
    "start_time": "2024-06-11T22:13:14.587Z"
   },
   {
    "duration": 6,
    "start_time": "2024-06-11T22:13:54.202Z"
   },
   {
    "duration": 1509,
    "start_time": "2024-06-11T22:14:33.642Z"
   },
   {
    "duration": 416,
    "start_time": "2024-06-11T22:14:35.156Z"
   },
   {
    "duration": 7,
    "start_time": "2024-06-11T22:14:35.575Z"
   },
   {
    "duration": 111,
    "start_time": "2024-06-11T22:14:35.588Z"
   },
   {
    "duration": 102,
    "start_time": "2024-06-11T22:14:35.704Z"
   },
   {
    "duration": 98,
    "start_time": "2024-06-11T22:14:35.809Z"
   },
   {
    "duration": 96,
    "start_time": "2024-06-11T22:14:35.910Z"
   },
   {
    "duration": 103,
    "start_time": "2024-06-11T22:14:36.009Z"
   },
   {
    "duration": 92,
    "start_time": "2024-06-11T22:14:36.115Z"
   },
   {
    "duration": 1078,
    "start_time": "2024-06-11T22:14:36.214Z"
   },
   {
    "duration": 307,
    "start_time": "2024-06-11T22:14:37.295Z"
   },
   {
    "duration": 482,
    "start_time": "2024-06-11T22:14:37.605Z"
   },
   {
    "duration": 307,
    "start_time": "2024-06-11T22:14:38.090Z"
   },
   {
    "duration": 1079,
    "start_time": "2024-06-11T22:14:38.400Z"
   },
   {
    "duration": 305,
    "start_time": "2024-06-11T22:14:39.482Z"
   },
   {
    "duration": 23,
    "start_time": "2024-06-11T22:14:39.790Z"
   },
   {
    "duration": 59,
    "start_time": "2024-06-11T22:14:39.817Z"
   },
   {
    "duration": 19,
    "start_time": "2024-06-11T22:14:39.879Z"
   },
   {
    "duration": 7,
    "start_time": "2024-06-11T22:14:39.902Z"
   },
   {
    "duration": 12,
    "start_time": "2024-06-11T22:14:39.969Z"
   },
   {
    "duration": 132,
    "start_time": "2024-06-11T22:14:39.985Z"
   },
   {
    "duration": 172,
    "start_time": "2024-06-11T22:14:40.122Z"
   },
   {
    "duration": 70,
    "start_time": "2024-06-11T22:14:40.300Z"
   },
   {
    "duration": 5,
    "start_time": "2024-06-11T22:14:40.373Z"
   },
   {
    "duration": 5,
    "start_time": "2024-06-11T22:14:40.381Z"
   },
   {
    "duration": 84,
    "start_time": "2024-06-11T22:14:40.389Z"
   },
   {
    "duration": 12,
    "start_time": "2024-06-11T22:14:40.477Z"
   },
   {
    "duration": 12,
    "start_time": "2024-06-11T22:14:40.495Z"
   },
   {
    "duration": 8,
    "start_time": "2024-06-11T22:14:40.511Z"
   },
   {
    "duration": 881,
    "start_time": "2024-06-11T22:14:40.569Z"
   },
   {
    "duration": 19,
    "start_time": "2024-06-11T22:14:41.455Z"
   },
   {
    "duration": 903,
    "start_time": "2024-06-11T22:14:41.477Z"
   },
   {
    "duration": 433,
    "start_time": "2024-06-11T22:14:42.383Z"
   },
   {
    "duration": 0,
    "start_time": "2024-06-11T22:14:42.820Z"
   },
   {
    "duration": 879,
    "start_time": "2024-06-11T22:15:18.023Z"
   },
   {
    "duration": 848,
    "start_time": "2024-06-11T22:15:31.329Z"
   },
   {
    "duration": 755,
    "start_time": "2024-06-11T22:17:00.138Z"
   },
   {
    "duration": 773,
    "start_time": "2024-06-11T22:17:52.855Z"
   },
   {
    "duration": 855,
    "start_time": "2024-06-11T22:18:03.950Z"
   },
   {
    "duration": 787,
    "start_time": "2024-06-11T22:18:41.103Z"
   },
   {
    "duration": 787,
    "start_time": "2024-06-11T22:18:43.760Z"
   },
   {
    "duration": 1472,
    "start_time": "2024-06-11T22:19:15.304Z"
   },
   {
    "duration": 414,
    "start_time": "2024-06-11T22:19:16.780Z"
   },
   {
    "duration": 6,
    "start_time": "2024-06-11T22:19:17.197Z"
   },
   {
    "duration": 105,
    "start_time": "2024-06-11T22:19:17.208Z"
   },
   {
    "duration": 115,
    "start_time": "2024-06-11T22:19:17.320Z"
   },
   {
    "duration": 89,
    "start_time": "2024-06-11T22:19:17.438Z"
   },
   {
    "duration": 93,
    "start_time": "2024-06-11T22:19:17.531Z"
   },
   {
    "duration": 97,
    "start_time": "2024-06-11T22:19:17.627Z"
   },
   {
    "duration": 100,
    "start_time": "2024-06-11T22:19:17.728Z"
   },
   {
    "duration": 1091,
    "start_time": "2024-06-11T22:19:17.832Z"
   },
   {
    "duration": 298,
    "start_time": "2024-06-11T22:19:18.927Z"
   },
   {
    "duration": 442,
    "start_time": "2024-06-11T22:19:19.228Z"
   },
   {
    "duration": 304,
    "start_time": "2024-06-11T22:19:19.674Z"
   },
   {
    "duration": 1056,
    "start_time": "2024-06-11T22:19:19.987Z"
   },
   {
    "duration": 309,
    "start_time": "2024-06-11T22:19:21.047Z"
   },
   {
    "duration": 27,
    "start_time": "2024-06-11T22:19:21.359Z"
   },
   {
    "duration": 28,
    "start_time": "2024-06-11T22:19:21.389Z"
   },
   {
    "duration": 50,
    "start_time": "2024-06-11T22:19:21.421Z"
   },
   {
    "duration": 15,
    "start_time": "2024-06-11T22:19:21.473Z"
   },
   {
    "duration": 83,
    "start_time": "2024-06-11T22:19:21.492Z"
   },
   {
    "duration": 129,
    "start_time": "2024-06-11T22:19:21.578Z"
   },
   {
    "duration": 171,
    "start_time": "2024-06-11T22:19:21.711Z"
   },
   {
    "duration": 5,
    "start_time": "2024-06-11T22:19:21.886Z"
   },
   {
    "duration": 76,
    "start_time": "2024-06-11T22:19:21.895Z"
   },
   {
    "duration": 9,
    "start_time": "2024-06-11T22:19:21.973Z"
   },
   {
    "duration": 88,
    "start_time": "2024-06-11T22:19:21.985Z"
   },
   {
    "duration": 12,
    "start_time": "2024-06-11T22:19:22.076Z"
   },
   {
    "duration": 12,
    "start_time": "2024-06-11T22:19:22.091Z"
   },
   {
    "duration": 7,
    "start_time": "2024-06-11T22:19:22.106Z"
   },
   {
    "duration": 883,
    "start_time": "2024-06-11T22:19:22.167Z"
   },
   {
    "duration": 15,
    "start_time": "2024-06-11T22:19:23.054Z"
   },
   {
    "duration": 874,
    "start_time": "2024-06-11T22:19:23.073Z"
   },
   {
    "duration": 876,
    "start_time": "2024-06-11T22:19:23.950Z"
   },
   {
    "duration": 5,
    "start_time": "2024-06-11T22:19:24.829Z"
   },
   {
    "duration": 4,
    "start_time": "2024-06-11T22:23:34.708Z"
   },
   {
    "duration": 1420,
    "start_time": "2024-06-11T22:23:53.700Z"
   },
   {
    "duration": 381,
    "start_time": "2024-06-11T22:23:55.123Z"
   },
   {
    "duration": 5,
    "start_time": "2024-06-11T22:23:55.508Z"
   },
   {
    "duration": 92,
    "start_time": "2024-06-11T22:23:55.518Z"
   },
   {
    "duration": 84,
    "start_time": "2024-06-11T22:23:55.613Z"
   },
   {
    "duration": 91,
    "start_time": "2024-06-11T22:23:55.700Z"
   },
   {
    "duration": 74,
    "start_time": "2024-06-11T22:23:55.794Z"
   },
   {
    "duration": 70,
    "start_time": "2024-06-11T22:23:55.872Z"
   },
   {
    "duration": 96,
    "start_time": "2024-06-11T22:23:55.944Z"
   },
   {
    "duration": 1041,
    "start_time": "2024-06-11T22:23:56.045Z"
   },
   {
    "duration": 279,
    "start_time": "2024-06-11T22:23:57.089Z"
   },
   {
    "duration": 418,
    "start_time": "2024-06-11T22:23:57.371Z"
   },
   {
    "duration": 309,
    "start_time": "2024-06-11T22:23:57.792Z"
   },
   {
    "duration": 1078,
    "start_time": "2024-06-11T22:23:58.105Z"
   },
   {
    "duration": 297,
    "start_time": "2024-06-11T22:23:59.186Z"
   },
   {
    "duration": 21,
    "start_time": "2024-06-11T22:23:59.487Z"
   },
   {
    "duration": 27,
    "start_time": "2024-06-11T22:23:59.511Z"
   },
   {
    "duration": 16,
    "start_time": "2024-06-11T22:23:59.569Z"
   },
   {
    "duration": 6,
    "start_time": "2024-06-11T22:23:59.588Z"
   },
   {
    "duration": 71,
    "start_time": "2024-06-11T22:23:59.597Z"
   },
   {
    "duration": 123,
    "start_time": "2024-06-11T22:23:59.671Z"
   },
   {
    "duration": 178,
    "start_time": "2024-06-11T22:23:59.798Z"
   },
   {
    "duration": 4,
    "start_time": "2024-06-11T22:23:59.979Z"
   },
   {
    "duration": 5,
    "start_time": "2024-06-11T22:23:59.987Z"
   },
   {
    "duration": 74,
    "start_time": "2024-06-11T22:23:59.995Z"
   },
   {
    "duration": 13,
    "start_time": "2024-06-11T22:24:00.073Z"
   },
   {
    "duration": 82,
    "start_time": "2024-06-11T22:24:00.091Z"
   },
   {
    "duration": 12,
    "start_time": "2024-06-11T22:24:00.182Z"
   },
   {
    "duration": 9,
    "start_time": "2024-06-11T22:24:00.197Z"
   },
   {
    "duration": 884,
    "start_time": "2024-06-11T22:24:00.211Z"
   },
   {
    "duration": 9,
    "start_time": "2024-06-11T22:24:01.099Z"
   },
   {
    "duration": 829,
    "start_time": "2024-06-11T22:24:01.112Z"
   },
   {
    "duration": 802,
    "start_time": "2024-06-11T22:24:01.944Z"
   },
   {
    "duration": 4,
    "start_time": "2024-06-11T22:24:02.750Z"
   },
   {
    "duration": 12,
    "start_time": "2024-06-11T22:24:41.114Z"
   },
   {
    "duration": 11,
    "start_time": "2024-06-11T22:24:51.138Z"
   },
   {
    "duration": 12,
    "start_time": "2024-06-11T22:25:00.692Z"
   },
   {
    "duration": 6,
    "start_time": "2024-06-11T22:26:33.806Z"
   },
   {
    "duration": 5,
    "start_time": "2024-06-11T22:26:39.088Z"
   },
   {
    "duration": 1407,
    "start_time": "2024-06-11T22:27:11.392Z"
   },
   {
    "duration": 368,
    "start_time": "2024-06-11T22:27:12.803Z"
   },
   {
    "duration": 6,
    "start_time": "2024-06-11T22:27:13.174Z"
   },
   {
    "duration": 94,
    "start_time": "2024-06-11T22:27:13.185Z"
   },
   {
    "duration": 63,
    "start_time": "2024-06-11T22:27:13.282Z"
   },
   {
    "duration": 65,
    "start_time": "2024-06-11T22:27:13.369Z"
   },
   {
    "duration": 79,
    "start_time": "2024-06-11T22:27:13.437Z"
   },
   {
    "duration": 90,
    "start_time": "2024-06-11T22:27:13.519Z"
   },
   {
    "duration": 81,
    "start_time": "2024-06-11T22:27:13.612Z"
   },
   {
    "duration": 996,
    "start_time": "2024-06-11T22:27:13.699Z"
   },
   {
    "duration": 277,
    "start_time": "2024-06-11T22:27:14.697Z"
   },
   {
    "duration": 416,
    "start_time": "2024-06-11T22:27:14.977Z"
   },
   {
    "duration": 279,
    "start_time": "2024-06-11T22:27:15.397Z"
   },
   {
    "duration": 1040,
    "start_time": "2024-06-11T22:27:15.679Z"
   },
   {
    "duration": 326,
    "start_time": "2024-06-11T22:27:16.723Z"
   },
   {
    "duration": 34,
    "start_time": "2024-06-11T22:27:17.053Z"
   },
   {
    "duration": 28,
    "start_time": "2024-06-11T22:27:17.090Z"
   },
   {
    "duration": 47,
    "start_time": "2024-06-11T22:27:17.121Z"
   },
   {
    "duration": 10,
    "start_time": "2024-06-11T22:27:17.171Z"
   },
   {
    "duration": 84,
    "start_time": "2024-06-11T22:27:17.185Z"
   },
   {
    "duration": 54,
    "start_time": "2024-06-11T22:27:17.273Z"
   },
   {
    "duration": 125,
    "start_time": "2024-06-11T22:27:17.372Z"
   },
   {
    "duration": 16,
    "start_time": "2024-06-11T22:27:17.500Z"
   },
   {
    "duration": 48,
    "start_time": "2024-06-11T22:27:17.522Z"
   },
   {
    "duration": 9,
    "start_time": "2024-06-11T22:27:17.575Z"
   },
   {
    "duration": 85,
    "start_time": "2024-06-11T22:27:17.590Z"
   },
   {
    "duration": 12,
    "start_time": "2024-06-11T22:27:17.678Z"
   },
   {
    "duration": 12,
    "start_time": "2024-06-11T22:27:17.698Z"
   },
   {
    "duration": 54,
    "start_time": "2024-06-11T22:27:17.713Z"
   },
   {
    "duration": 938,
    "start_time": "2024-06-11T22:27:17.770Z"
   },
   {
    "duration": 10,
    "start_time": "2024-06-11T22:27:18.712Z"
   },
   {
    "duration": 891,
    "start_time": "2024-06-11T22:27:18.725Z"
   },
   {
    "duration": 7,
    "start_time": "2024-06-11T22:27:19.620Z"
   },
   {
    "duration": 886,
    "start_time": "2024-06-11T22:27:19.631Z"
   },
   {
    "duration": 7,
    "start_time": "2024-06-11T22:27:20.521Z"
   },
   {
    "duration": 5,
    "start_time": "2024-06-11T22:27:20.532Z"
   },
   {
    "duration": 5,
    "start_time": "2024-06-11T22:27:33.158Z"
   }
  ],
  "kernelspec": {
   "display_name": "Python 3 (ipykernel)",
   "language": "python",
   "name": "python3"
  },
  "language_info": {
   "codemirror_mode": {
    "name": "ipython",
    "version": 3
   },
   "file_extension": ".py",
   "mimetype": "text/x-python",
   "name": "python",
   "nbconvert_exporter": "python",
   "pygments_lexer": "ipython3",
   "version": "3.9.19"
  },
  "toc": {
   "base_numbering": 1,
   "nav_menu": {},
   "number_sections": true,
   "sideBar": true,
   "skip_h1_title": true,
   "title_cell": "Table of Contents",
   "title_sidebar": "Contents",
   "toc_cell": false,
   "toc_position": {
    "height": "calc(100% - 180px)",
    "left": "10px",
    "top": "150px",
    "width": "237.542px"
   },
   "toc_section_display": true,
   "toc_window_display": true
  }
 },
 "nbformat": 4,
 "nbformat_minor": 2
}
